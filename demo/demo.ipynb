{
 "cells": [
  {
   "cell_type": "markdown",
   "metadata": {},
   "source": [
    "# Seq-to-first-iso"
   ]
  },
  {
   "cell_type": "markdown",
   "metadata": {},
   "source": [
    "> Compute first two isotopologues intensities from sequences"
   ]
  },
  {
   "cell_type": "markdown",
   "metadata": {},
   "source": [
    "**seq-to-first-iso** is a tool to compute isotopologue intentities M0 and M1 of peptide sequences with Natural Carbon\n",
    "and with 99.99 % 12C enriched carbon.  \n",
    "The program can take into account unlabelled amino acids to simulate auxotrophies to amino acids."
   ]
  },
  {
   "cell_type": "markdown",
   "metadata": {},
   "source": [
    "---\n",
    "## Using the Command-Line Interface"
   ]
  },
  {
   "cell_type": "markdown",
   "metadata": {},
   "source": [
    "*Note: the exclamation marks \"!\" are used for the notebook, in a real terminal, you will not need them.*"
   ]
  },
  {
   "cell_type": "code",
   "execution_count": 6,
   "metadata": {},
   "outputs": [
    {
     "name": "stdout",
     "output_type": "stream",
     "text": [
      "usage: seq-to-first-iso [-h] [-o OUTPUT] [-n amino_a] input\r\n",
      "\r\n",
      "Read a file of sequences and creates a tsv file\r\n",
      "\r\n",
      "positional arguments:\r\n",
      "  input                 file to parse\r\n",
      "\r\n",
      "optional arguments:\r\n",
      "  -h, --help            show this help message and exit\r\n",
      "  -o OUTPUT, --output OUTPUT\r\n",
      "                        name of output file\r\n",
      "  -n amino_a, --non-labelled-aa amino_a\r\n",
      "                        amino acids with default abundance\r\n"
     ]
    }
   ],
   "source": [
    "!seq-to-first-iso -h"
   ]
  },
  {
   "cell_type": "markdown",
   "metadata": {},
   "source": [
    "The output file will have columns\n",
    "\n",
    "|sequence| mass| formula|formula_X| M0_NC| M1_NC| M0_12C| M1_12C|\n",
    "|--------|-----|--------|---------|------|------|-------|-------|\n",
    "original sequence|sequence mass|chemical formula|chemical formula with X|M0 in NC|M1 in NC|M0 in 12C|M1 in 12C\n",
    "\n",
    "X: Virtual element created to represent unlabelled carbon  \n",
    "NC: Normal Condition (Natural Carbon)  \n",
    "12C: 12C condition (12C enriched carbon)    "
   ]
  },
  {
   "cell_type": "code",
   "execution_count": 75,
   "metadata": {},
   "outputs": [
    {
     "name": "stdout",
     "output_type": "stream",
     "text": [
      "YAQEISR\r\n",
      "VGFPVLSVKEHK\r\n",
      "LAMVIIKEFVDDLK\r\n"
     ]
    }
   ],
   "source": [
    "# File used.\n",
    "!cat peptides.txt"
   ]
  },
  {
   "cell_type": "markdown",
   "metadata": {},
   "source": [
    "### Minimal command"
   ]
  },
  {
   "cell_type": "code",
   "execution_count": 51,
   "metadata": {},
   "outputs": [
    {
     "name": "stdout",
     "output_type": "stream",
     "text": [
      "[2019-06-26, 12:09:01] INFO    : Parsing file\r\n",
      "[2019-06-26, 12:09:01] INFO    : Computing formula\r\n",
      "[2019-06-26, 12:09:01] INFO    : Computing composition of modifications\r\n",
      "[2019-06-26, 12:09:01] INFO    : Computing mass\r\n",
      "[2019-06-26, 12:09:01] INFO    : Computing M0 and M1\r\n"
     ]
    }
   ],
   "source": [
    "!seq-to-first-iso peptides.txt"
   ]
  },
  {
   "cell_type": "markdown",
   "metadata": {},
   "source": [
    "Running the command above will create a file with tab-separated values : *peptides_stfi.tsv*"
   ]
  },
  {
   "cell_type": "code",
   "execution_count": 52,
   "metadata": {},
   "outputs": [
    {
     "name": "stdout",
     "output_type": "stream",
     "text": [
      "sequence        mass              formula          formula_X        M0_NC                M1_NC                M0_12C              M1_12C\r\n",
      "YAQEISR         865.42938099921   C37H59O13N11     C37H59O13N11     0.6206414140575179   0.280870823368276    0.9206561231798033  0.05161907174495234\r\n",
      "VGFPVLSVKEHK    1338.7659712609   C63H102O16N16    C63H102O16N16    0.4550358985377136   0.34506032928190855  0.8905224988642593  0.07411308335404865\r\n",
      "LAMVIIKEFVDDLK  1632.91606619252  C76H128O21N16S1  C76H128O21N16S1  0.36994021481230627  0.3373188347614264   0.8315762004558261  0.08101653544902196\r\n"
     ]
    }
   ],
   "source": [
    "!column -t peptides_stfi.tsv"
   ]
  },
  {
   "cell_type": "markdown",
   "metadata": {},
   "source": [
    "### Changing output name"
   ]
  },
  {
   "cell_type": "markdown",
   "metadata": {},
   "source": [
    "You can also change the name of the output file"
   ]
  },
  {
   "cell_type": "code",
   "execution_count": 65,
   "metadata": {},
   "outputs": [
    {
     "name": "stdout",
     "output_type": "stream",
     "text": [
      "[2019-06-26, 12:15:51] INFO    : Parsing file\r\n",
      "[2019-06-26, 12:15:51] INFO    : Computing formula\r\n",
      "[2019-06-26, 12:15:51] INFO    : Computing composition of modifications\r\n",
      "[2019-06-26, 12:15:51] INFO    : Computing mass\r\n",
      "[2019-06-26, 12:15:51] INFO    : Computing M0 and M1\r\n"
     ]
    }
   ],
   "source": [
    "!seq-to-first-iso peptides.txt -o sequence"
   ]
  },
  {
   "cell_type": "code",
   "execution_count": 66,
   "metadata": {},
   "outputs": [
    {
     "name": "stdout",
     "output_type": "stream",
     "text": [
      "sequence        mass              formula          formula_X        M0_NC                M1_NC                M0_12C              M1_12C\r\n",
      "YAQEISR         865.42938099921   C37H59O13N11     C37H59O13N11     0.6206414140575179   0.280870823368276    0.9206561231798033  0.05161907174495234\r\n",
      "VGFPVLSVKEHK    1338.7659712609   C63H102O16N16    C63H102O16N16    0.4550358985377136   0.34506032928190855  0.8905224988642593  0.07411308335404865\r\n",
      "LAMVIIKEFVDDLK  1632.91606619252  C76H128O21N16S1  C76H128O21N16S1  0.36994021481230627  0.3373188347614264   0.8315762004558261  0.08101653544902196\r\n"
     ]
    }
   ],
   "source": [
    "!column -t sequence.tsv"
   ]
  },
  {
   "cell_type": "markdown",
   "metadata": {},
   "source": [
    "### Choosing unlabelled amino acids"
   ]
  },
  {
   "cell_type": "code",
   "execution_count": 63,
   "metadata": {},
   "outputs": [
    {
     "name": "stdout",
     "output_type": "stream",
     "text": [
      "[2019-06-26, 12:11:16] INFO    : Amino acid with default abundance: ['V', 'W']\r\n",
      "[2019-06-26, 12:11:16] INFO    : Parsing file\r\n",
      "[2019-06-26, 12:11:16] INFO    : Computing formula\r\n",
      "[2019-06-26, 12:11:16] INFO    : Computing composition of modifications\r\n",
      "[2019-06-26, 12:11:16] INFO    : Computing mass\r\n",
      "[2019-06-26, 12:11:16] INFO    : Computing M0 and M1\r\n"
     ]
    }
   ],
   "source": [
    "!seq-to-first-iso peptides.txt -n V,W -o sequence"
   ]
  },
  {
   "cell_type": "code",
   "execution_count": 64,
   "metadata": {},
   "outputs": [
    {
     "name": "stdout",
     "output_type": "stream",
     "text": [
      "sequence        mass              formula          formula_X           M0_NC                M1_NC               M0_12C              M1_12C\r\n",
      "YAQEISR         865.42938099921   C37H59O13N11     C37H59O13N11        0.6206414140575179   0.280870823368276   0.9206561231798033  0.05161907174495234\r\n",
      "VGFPVLSVKEHK    1338.7659712609   C63H102O16N16    C48H102O16N16X15    0.45503589853771365  0.3450603292819086  0.7589558393662944  0.18515489894512063\r\n",
      "LAMVIIKEFVDDLK  1632.91606619252  C76H128O21N16S1  C66H128O21N16S1X10  0.36994021481230627  0.3373188347614264  0.7475090558698947  0.15292723586285323\r\n"
     ]
    }
   ],
   "source": [
    "!column -t sequence.tsv"
   ]
  },
  {
   "cell_type": "markdown",
   "metadata": {},
   "source": [
    "The carbon of unlabelled amino acids is shown as X in column \"formula_X\".  \n",
    "We can observe that for sequence \"YAQEISR\" that has no unlabelled amino acids, M0 and M1 are the same as the previous *sequence.tsv*, regardless of the condition.  \n",
    "In contrast sequence \"VGFPVLSVKEHK\", in 12C condition, has M0 go down from 0.8905224988642593 to 0.7589558393662944 and M1 go up from 0.07411308335404865 to 0.18515489894512063."
   ]
  },
  {
   "cell_type": "markdown",
   "metadata": {},
   "source": [
    "---\n",
    "## Using the API"
   ]
  },
  {
   "cell_type": "markdown",
   "metadata": {},
   "source": [
    "You can also use seq-to-first-iso's functions by importing the module seq_to_first_iso"
   ]
  },
  {
   "cell_type": "code",
   "execution_count": 27,
   "metadata": {},
   "outputs": [],
   "source": [
    "from pprint import pprint\n",
    "\n",
    "import pandas as pd\n",
    "from pyteomics import mass\n",
    "\n",
    "import seq_to_first_iso as stfi"
   ]
  },
  {
   "cell_type": "code",
   "execution_count": 47,
   "metadata": {},
   "outputs": [],
   "source": [
    "# Variables used for showcase.\n",
    "peptide_seq = \"YAQEISRAR\"\n",
    "unlabelled_amino_acids = [\"A\", \"R\"]"
   ]
  },
  {
   "cell_type": "markdown",
   "metadata": {},
   "source": [
    "### Abundances defined in seq-to-first-iso"
   ]
  },
  {
   "cell_type": "code",
   "execution_count": 12,
   "metadata": {},
   "outputs": [],
   "source": [
    "isotopic_abundance = stfi.isotopic_abundance\n",
    "C12_abundance = stfi.C12_abundance"
   ]
  },
  {
   "cell_type": "code",
   "execution_count": 95,
   "metadata": {},
   "outputs": [
    {
     "name": "stdout",
     "output_type": "stream",
     "text": [
      "{'C[12]': 0.9893,\n",
      " 'C[13]': 0.0107,\n",
      " 'H[1]': 0.999885,\n",
      " 'H[2]': 0.000115,\n",
      " 'N[14]': 0.99632,\n",
      " 'N[15]': 0.00368,\n",
      " 'O[16]': 0.99757,\n",
      " 'O[17]': 0.00038,\n",
      " 'O[18]': 0.00205,\n",
      " 'S[32]': 0.9493,\n",
      " 'S[33]': 0.0076,\n",
      " 'S[34]': 0.0429,\n",
      " 'X[12]': 0.9893,\n",
      " 'X[13]': 0.0107}\n"
     ]
    }
   ],
   "source": [
    "pprint(isotopic_abundance)"
   ]
  },
  {
   "cell_type": "code",
   "execution_count": 26,
   "metadata": {},
   "outputs": [
    {
     "name": "stdout",
     "output_type": "stream",
     "text": [
      "{'C[12]': 0.9999,\n",
      " 'C[13]': 9.999999999998899e-05,\n",
      " 'H[1]': 0.999885,\n",
      " 'H[2]': 0.000115,\n",
      " 'N[14]': 0.99632,\n",
      " 'N[15]': 0.00368,\n",
      " 'O[16]': 0.99757,\n",
      " 'O[17]': 0.00038,\n",
      " 'O[18]': 0.00205,\n",
      " 'S[32]': 0.9493,\n",
      " 'S[33]': 0.0076,\n",
      " 'S[34]': 0.0429,\n",
      " 'X[12]': 0.9893,\n",
      " 'X[13]': 0.0107}\n"
     ]
    }
   ],
   "source": [
    "pprint(C12_abundance)"
   ]
  },
  {
   "cell_type": "markdown",
   "metadata": {},
   "source": [
    "isotopic_abundance and C12_abundance are dictionaries with abundances of common isotopes of organic elements.  \n",
    "C12_abundance has a 12C abundance of 99.99 %, hence 13C abundance is 0.01 %.  \n",
    "Element X is a virtual element created to replace the carbon of unlabelled amino acids, it has the same isotopic abundances as natural carbon."
   ]
  },
  {
   "cell_type": "markdown",
   "metadata": {},
   "source": [
    "### Separate sequences according to unlabelled amino acids"
   ]
  },
  {
   "cell_type": "code",
   "execution_count": 45,
   "metadata": {},
   "outputs": [
    {
     "name": "stdout",
     "output_type": "stream",
     "text": [
      "Help on function separate_labelled in module seq_to_first_iso.seq_to_first_iso:\n",
      "\n",
      "separate_labelled(sequence, unlabelled_aa)\n",
      "    Get the sequence of unlabelled amino acids from a sequence.\n",
      "    \n",
      "    Parameters\n",
      "    ----------\n",
      "    sequence : str\n",
      "        String of amino acids\n",
      "    unlabelled_aa\n",
      "        Container (list, string...) of unlabelled amino acids\n",
      "    \n",
      "    Returns\n",
      "    -------\n",
      "    tuple(str, str)\n",
      "        The sequences as a tuple of string with:\n",
      "        - the sequence without the unlabelled amino acids\n",
      "        - the unlabelled amino acids in the sequence\n",
      "\n"
     ]
    }
   ],
   "source": [
    "help(stfi.separate_labelled)"
   ]
  },
  {
   "cell_type": "code",
   "execution_count": 93,
   "metadata": {},
   "outputs": [
    {
     "name": "stdout",
     "output_type": "stream",
     "text": [
      "sequence with labelled carbon : YQEIS\n",
      "sequence with unlabelled carbon : ARAR\n"
     ]
    }
   ],
   "source": [
    "# Separate sequence \"YAQEISRAR\" with amino acids A and R unlabelled.\n",
    "labelled_sequence, unlabelled_sequence = stfi.separate_labelled(peptide_seq, unlabelled_aa=unlabelled_amino_acids)\n",
    "print(f\"sequence with labelled carbon: {labelled_sequence}\\n\"\n",
    "      f\"sequence with unlabelled carbon: {unlabelled_sequence}\")"
   ]
  },
  {
   "cell_type": "markdown",
   "metadata": {},
   "source": [
    "### Obtain a composition with element X"
   ]
  },
  {
   "cell_type": "code",
   "execution_count": 44,
   "metadata": {},
   "outputs": [
    {
     "name": "stdout",
     "output_type": "stream",
     "text": [
      "Help on function seq_to_midas in module seq_to_first_iso.seq_to_first_iso:\n",
      "\n",
      "seq_to_midas(sequence_l, sequence_nl)\n",
      "    Take 2 amino acid sequences and return the composition for MIDAs.\n",
      "    \n",
      "    Parameters\n",
      "    ----------\n",
      "    sequence_l : str\n",
      "        Sequence with labelled amino acids.\n",
      "    sequence_nl : str\n",
      "        Sequence where amino acids are not labelled.\n",
      "    \n",
      "    Notes\n",
      "    -----\n",
      "    The function assumes the second sequence has no terminii.\n",
      "\n"
     ]
    }
   ],
   "source": [
    "help(stfi.seq_to_midas)"
   ]
  },
  {
   "cell_type": "code",
   "execution_count": 49,
   "metadata": {},
   "outputs": [
    {
     "name": "stdout",
     "output_type": "stream",
     "text": [
      "Composition of YAQEISRAR with ['A', 'R'] unlabelled:\n",
      "Composition({'H': 76, 'C': 28, 'O': 15, 'N': 16, 'X': 18})\n"
     ]
    }
   ],
   "source": [
    "# Get the chemical formula with unlabelled carbon as element X.\n",
    "chem_formula = stfi.seq_to_midas(labelled_sequence, unlabelled_sequence)\n",
    "print(f\"Composition of {peptide_seq} with {unlabelled_amino_acids} unlabelled:\\n{chem_formula}\")"
   ]
  },
  {
   "cell_type": "code",
   "execution_count": null,
   "metadata": {},
   "outputs": [],
   "source": [
    "# If all amino acids are labelled, you can pass an empty string.\n",
    "labelled_formula = stfi.seq_to_midas(labelled_sequence, \"\")\n",
    "print(f\"Composition of {peptide_seq} with {unlabelled_amino_acids} unlabelled:\\n{labelled_formula}\")"
   ]
  },
  {
   "cell_type": "markdown",
   "metadata": {},
   "source": [
    "### Compute isotopologue intensity"
   ]
  },
  {
   "cell_type": "code",
   "execution_count": 43,
   "metadata": {},
   "outputs": [
    {
     "name": "stdout",
     "output_type": "stream",
     "text": [
      "Help on function compute_M0_nl in module seq_to_first_iso.seq_to_first_iso:\n",
      "\n",
      "compute_M0_nl(f, a)\n",
      "    Return the monoisotopic abundance M0 of a formula with mixed labels.\n",
      "    \n",
      "    Parameters\n",
      "    ----------\n",
      "    f : pyteomics.mass.Composition\n",
      "        Chemical formula, as a dict of counts for each element:\n",
      "        {element_name: count_of_element_in_sequence, ...}.\n",
      "    a : dict\n",
      "        Dictionary of abundances of isotopes, in the format:\n",
      "        {element_name[isotope_number]: relative abundance, ..}.\n",
      "    \n",
      "    Returns:\n",
      "    float\n",
      "        Value of M0.\n",
      "    \n",
      "    Notes\n",
      "    -----\n",
      "    X represents C with default isotopic abundance.\n",
      "\n",
      "-------------------------------------------------------------------------------\n",
      "Help on function compute_M1_nl in module seq_to_first_iso.seq_to_first_iso:\n",
      "\n",
      "compute_M1_nl(f, a)\n",
      "    Compute abundance of second isotopologue M1 from its formula.\n",
      "    \n",
      "    Parameters\n",
      "    ----------\n",
      "    f : pyteomics.mass.Composition\n",
      "        Chemical formula, as a dict of counts for each element:\n",
      "        {element_name: count_of_element_in_sequence, ...}.\n",
      "    a : dict\n",
      "        Dictionary of abundances of isotopes, in the format:\n",
      "        {element_name[isotope_number]: relative abundance, ..}.\n",
      "    \n",
      "    Returns:\n",
      "    float\n",
      "        Value of M1.\n",
      "    \n",
      "    Notes\n",
      "    -----\n",
      "    X represents C with default isotopic abundance.\n",
      "\n"
     ]
    }
   ],
   "source": [
    "help(stfi.compute_M0_nl)\n",
    "print(\"-\" * 79)\n",
    "help(stfi.compute_M1_nl)"
   ]
  },
  {
   "cell_type": "code",
   "execution_count": 37,
   "metadata": {},
   "outputs": [
    {
     "name": "stdout",
     "output_type": "stream",
     "text": [
      "M0 in Normal Condition : 0.6206414140575179\n",
      "M0 in 12C condition : 0.9206561231798033\n"
     ]
    }
   ],
   "source": [
    "# Compute M0 with natural carbon.\n",
    "first_isotopologue = stfi.compute_M0_nl(chem_formula, isotopic_abundance)\n",
    "print(f\"M0 in Normal Condition: {first_isotopologue}\")\n",
    "\n",
    "first_isotopologue = stfi.compute_M0_nl(chem_formula, C12_abundance)\n",
    "print(f\"M0 in 12C condition: {first_isotopologue}\")"
   ]
  },
  {
   "cell_type": "code",
   "execution_count": 38,
   "metadata": {},
   "outputs": [
    {
     "name": "stdout",
     "output_type": "stream",
     "text": [
      "M1 in Normal Condition : 0.280870823368276\n",
      "M1 in 12C condition : 0.05161907174495234\n"
     ]
    }
   ],
   "source": [
    "# Compute M1 with natural carbon.\n",
    "first_isotopologue = stfi.compute_M1_nl(chem_formula, isotopic_abundance)\n",
    "print(f\"M1 in Normal Condition: {first_isotopologue}\")\n",
    "\n",
    "first_isotopologue = stfi.compute_M1_nl(chem_formula, C12_abundance)\n",
    "print(f\"M1 in 12C condition: {first_isotopologue}\")"
   ]
  },
  {
   "cell_type": "markdown",
   "metadata": {},
   "source": [
    "### Parse a file with peptide sequences"
   ]
  },
  {
   "cell_type": "markdown",
   "metadata": {},
   "source": [
    "seq-to-first-iso accepts files with 1 sequence per line.  \n",
    "Optionally, annotations/sequence IDs can be placed in the same line before sequences if separated by a separator (default: \"\\t\"). The program declares that the file has annotations if the separator is found on the first line.   \n",
    "The parser will ignore lines where sequences have incorrect characters (not in \"ACDEFGHIKLMNPQRSTVWY\") unless it corresponds to XTandem's Post-Translational Modification notation."
   ]
  },
  {
   "cell_type": "code",
   "execution_count": 76,
   "metadata": {},
   "outputs": [
    {
     "name": "stdout",
     "output_type": "stream",
     "text": [
      "Help on function sequence_parser in module seq_to_first_iso.seq_to_first_iso:\n",
      "\n",
      "sequence_parser(file, sep='\\t')\n",
      "    Return information on sequences parsed from a file.\n",
      "    \n",
      "    Parameters\n",
      "    ----------\n",
      "    file : str\n",
      "        Filename, the file can either just have sequences for each line or\n",
      "        can have have annotations and sequences with a separator in-between.\n",
      "    sep : str, optional\n",
      "        Separator for files with annotations.\n",
      "    \n",
      "    Returns\n",
      "    -------\n",
      "    dict\n",
      "        Parsed output with \"key: values\" :\n",
      "        - \"annotations\": a list of annotations if any.\n",
      "        - \"raw_sequences\": a list of unmodified peptide sequences.\n",
      "        - \"sequences\": a list of uppercase peptide sequences.\n",
      "        - \"modifications\": a list of lists of PTMs.\n",
      "        - \"ignored_lines\": and the number of ignored lines.\n",
      "    \n",
      "    Warnings\n",
      "    --------\n",
      "    The function uses the first line to evaluate if the file has\n",
      "    annotations or not, hence a file should have a consistent format.\n",
      "    \n",
      "    Notes\n",
      "    -----\n",
      "    Supports Xtandem's Post-Translational Modification notation (0.4.0).\n",
      "\n"
     ]
    }
   ],
   "source": [
    "help(stfi.sequence_parser)"
   ]
  },
  {
   "cell_type": "code",
   "execution_count": 77,
   "metadata": {},
   "outputs": [
    {
     "name": "stdout",
     "output_type": "stream",
     "text": [
      "{'annotations': [],\n",
      " 'ignored_lines': 0,\n",
      " 'modifications': [[], [], []],\n",
      " 'raw_sequences': ['YAQEISR', 'VGFPVLSVKEHK', 'LAMVIIKEFVDDLK'],\n",
      " 'sequences': ['YAQEISR', 'VGFPVLSVKEHK', 'LAMVIIKEFVDDLK']}\n"
     ]
    }
   ],
   "source": [
    "parsed_output = stfi.sequence_parser(\"peptides.txt\")\n",
    "pprint(parsed_output)"
   ]
  },
  {
   "cell_type": "markdown",
   "metadata": {},
   "source": [
    "For *peptides.txt*, the list of annotations is empty (there are no annotations), no lines are ignored and \n",
    "no modifications were found so raw_sequences (with modifications) are the same as sequences (without modifications)"
   ]
  },
  {
   "cell_type": "code",
   "execution_count": 80,
   "metadata": {},
   "outputs": [],
   "source": [
    "# Get the values in the returned dict.\n",
    "annotations = parsed_output[\"annotations\"]\n",
    "ignored_lines = parsed_output[\"ignored_lines\"]\n",
    "modifications = parsed_output[\"modifications\"]\n",
    "sequences = parsed_output[\"sequences\"]\n",
    "raw_sequences = parsed_output[\"raw_sequences\"]"
   ]
  },
  {
   "cell_type": "markdown",
   "metadata": {},
   "source": [
    "### Create a dataframe from a list of sequences"
   ]
  },
  {
   "cell_type": "code",
   "execution_count": 78,
   "metadata": {},
   "outputs": [
    {
     "name": "stdout",
     "output_type": "stream",
     "text": [
      "Help on function seq_to_tsv in module seq_to_first_iso.seq_to_first_iso:\n",
      "\n",
      "seq_to_tsv(sequences, unlabelled_aa, **kwargs)\n",
      "    Create a dataframe from sequences and return its name.\n",
      "    \n",
      "    Parameters\n",
      "    ----------\n",
      "    sequences : list of str\n",
      "        List of pure peptide sequences string.\n",
      "    unlabelled_aa : container object\n",
      "        Container of unlabelled amino acids.\n",
      "    **kwargs\n",
      "        Optional keyword arguments:\n",
      "            annotations : list of str, optional\n",
      "                 List of IDs for the sequences.\n",
      "            raw_sequences : list of str, optional\n",
      "                 List of sequences with Xtandem PTMs.\n",
      "            modifications : list of str, optional\n",
      "                 List of modifications for raw_sequences.\n",
      "    \n",
      "    Returns\n",
      "    -------\n",
      "    pandas.Dataframe\n",
      "        Dataframe with : annotation (optional), sequence, mass,\n",
      "                         formula, formula_X, M0_NC, M1_NC, M0_12C, M1_12C.\n",
      "    \n",
      "    Warnings\n",
      "    --------\n",
      "    If raw_sequence is provided, modifications must also be provided.\n",
      "    \n",
      "    TODO: change name with version change.\n",
      "\n"
     ]
    }
   ],
   "source": [
    "help(stfi.seq_to_tsv)"
   ]
  },
  {
   "cell_type": "code",
   "execution_count": 81,
   "metadata": {
    "scrolled": true
   },
   "outputs": [
    {
     "name": "stderr",
     "output_type": "stream",
     "text": [
      "[2019-06-26, 14:04:53] INFO    : Computing formula\n",
      "[2019-06-26, 14:04:53] INFO    : Computing mass\n",
      "[2019-06-26, 14:04:53] INFO    : Computing M0 and M1\n"
     ]
    },
    {
     "data": {
      "text/html": [
       "<div>\n",
       "<style scoped>\n",
       "    .dataframe tbody tr th:only-of-type {\n",
       "        vertical-align: middle;\n",
       "    }\n",
       "\n",
       "    .dataframe tbody tr th {\n",
       "        vertical-align: top;\n",
       "    }\n",
       "\n",
       "    .dataframe thead th {\n",
       "        text-align: right;\n",
       "    }\n",
       "</style>\n",
       "<table border=\"1\" class=\"dataframe\">\n",
       "  <thead>\n",
       "    <tr style=\"text-align: right;\">\n",
       "      <th></th>\n",
       "      <th>sequence</th>\n",
       "      <th>mass</th>\n",
       "      <th>formula</th>\n",
       "      <th>formula_X</th>\n",
       "      <th>M0_NC</th>\n",
       "      <th>M1_NC</th>\n",
       "      <th>M0_12C</th>\n",
       "      <th>M1_12C</th>\n",
       "    </tr>\n",
       "  </thead>\n",
       "  <tbody>\n",
       "    <tr>\n",
       "      <th>0</th>\n",
       "      <td>YAQEISR</td>\n",
       "      <td>865.429381</td>\n",
       "      <td>C37H59O13N11</td>\n",
       "      <td>C28H59O13N11X9</td>\n",
       "      <td>0.620641</td>\n",
       "      <td>0.280871</td>\n",
       "      <td>0.836451</td>\n",
       "      <td>0.127566</td>\n",
       "    </tr>\n",
       "    <tr>\n",
       "      <th>1</th>\n",
       "      <td>VGFPVLSVKEHK</td>\n",
       "      <td>1338.765971</td>\n",
       "      <td>C63H102O16N16</td>\n",
       "      <td>C63H102O16N16</td>\n",
       "      <td>0.455036</td>\n",
       "      <td>0.345060</td>\n",
       "      <td>0.890522</td>\n",
       "      <td>0.074113</td>\n",
       "    </tr>\n",
       "    <tr>\n",
       "      <th>2</th>\n",
       "      <td>LAMVIIKEFVDDLK</td>\n",
       "      <td>1632.916066</td>\n",
       "      <td>C76H128O21N16S1</td>\n",
       "      <td>C73H128O21N16S1X3</td>\n",
       "      <td>0.369940</td>\n",
       "      <td>0.337319</td>\n",
       "      <td>0.805409</td>\n",
       "      <td>0.104359</td>\n",
       "    </tr>\n",
       "  </tbody>\n",
       "</table>\n",
       "</div>"
      ],
      "text/plain": [
       "         sequence         mass          formula          formula_X     M0_NC  \\\n",
       "0         YAQEISR   865.429381     C37H59O13N11     C28H59O13N11X9  0.620641   \n",
       "1    VGFPVLSVKEHK  1338.765971    C63H102O16N16      C63H102O16N16  0.455036   \n",
       "2  LAMVIIKEFVDDLK  1632.916066  C76H128O21N16S1  C73H128O21N16S1X3  0.369940   \n",
       "\n",
       "      M1_NC    M0_12C    M1_12C  \n",
       "0  0.280871  0.836451  0.127566  \n",
       "1  0.345060  0.890522  0.074113  \n",
       "2  0.337319  0.805409  0.104359  "
      ]
     },
     "execution_count": 81,
     "metadata": {},
     "output_type": "execute_result"
    }
   ],
   "source": [
    "# The dict returned by sequence_parser can be unpacked in the function (remove \"ignored_lines\" against warning).\n",
    "df_peptides = stfi.seq_to_tsv(sequences, unlabelled_aa=unlabelled_amino_acids)\n",
    "df_peptides.head()"
   ]
  },
  {
   "cell_type": "code",
   "execution_count": 82,
   "metadata": {},
   "outputs": [
    {
     "name": "stderr",
     "output_type": "stream",
     "text": [
      "[2019-06-26, 14:10:00] INFO    : Computing formula\n",
      "[2019-06-26, 14:10:00] INFO    : Computing mass\n",
      "[2019-06-26, 14:10:00] INFO    : Computing M0 and M1\n"
     ]
    },
    {
     "data": {
      "text/html": [
       "<div>\n",
       "<style scoped>\n",
       "    .dataframe tbody tr th:only-of-type {\n",
       "        vertical-align: middle;\n",
       "    }\n",
       "\n",
       "    .dataframe tbody tr th {\n",
       "        vertical-align: top;\n",
       "    }\n",
       "\n",
       "    .dataframe thead th {\n",
       "        text-align: right;\n",
       "    }\n",
       "</style>\n",
       "<table border=\"1\" class=\"dataframe\">\n",
       "  <thead>\n",
       "    <tr style=\"text-align: right;\">\n",
       "      <th></th>\n",
       "      <th>annotation</th>\n",
       "      <th>sequence</th>\n",
       "      <th>mass</th>\n",
       "      <th>formula</th>\n",
       "      <th>formula_X</th>\n",
       "      <th>M0_NC</th>\n",
       "      <th>M1_NC</th>\n",
       "      <th>M0_12C</th>\n",
       "      <th>M1_12C</th>\n",
       "    </tr>\n",
       "  </thead>\n",
       "  <tbody>\n",
       "    <tr>\n",
       "      <th>0</th>\n",
       "      <td>id1</td>\n",
       "      <td>YAQEISR</td>\n",
       "      <td>865.429381</td>\n",
       "      <td>C37H59O13N11</td>\n",
       "      <td>C28H59O13N11X9</td>\n",
       "      <td>0.620641</td>\n",
       "      <td>0.280871</td>\n",
       "      <td>0.836451</td>\n",
       "      <td>0.127566</td>\n",
       "    </tr>\n",
       "    <tr>\n",
       "      <th>1</th>\n",
       "      <td>id2</td>\n",
       "      <td>VGFPVLSVKEHK</td>\n",
       "      <td>1338.765971</td>\n",
       "      <td>C63H102O16N16</td>\n",
       "      <td>C63H102O16N16</td>\n",
       "      <td>0.455036</td>\n",
       "      <td>0.345060</td>\n",
       "      <td>0.890522</td>\n",
       "      <td>0.074113</td>\n",
       "    </tr>\n",
       "    <tr>\n",
       "      <th>2</th>\n",
       "      <td>id3</td>\n",
       "      <td>LAMVIIKEFVDDLK</td>\n",
       "      <td>1632.916066</td>\n",
       "      <td>C76H128O21N16S1</td>\n",
       "      <td>C73H128O21N16S1X3</td>\n",
       "      <td>0.369940</td>\n",
       "      <td>0.337319</td>\n",
       "      <td>0.805409</td>\n",
       "      <td>0.104359</td>\n",
       "    </tr>\n",
       "  </tbody>\n",
       "</table>\n",
       "</div>"
      ],
      "text/plain": [
       "  annotation        sequence         mass          formula          formula_X  \\\n",
       "0        id1         YAQEISR   865.429381     C37H59O13N11     C28H59O13N11X9   \n",
       "1        id2    VGFPVLSVKEHK  1338.765971    C63H102O16N16      C63H102O16N16   \n",
       "2        id3  LAMVIIKEFVDDLK  1632.916066  C76H128O21N16S1  C73H128O21N16S1X3   \n",
       "\n",
       "      M0_NC     M1_NC    M0_12C    M1_12C  \n",
       "0  0.620641  0.280871  0.836451  0.127566  \n",
       "1  0.455036  0.345060  0.890522  0.074113  \n",
       "2  0.369940  0.337319  0.805409  0.104359  "
      ]
     },
     "execution_count": 82,
     "metadata": {},
     "output_type": "execute_result"
    }
   ],
   "source": [
    "# Dataframe with annotations.\n",
    "mock_annotations = [\"id1\", \"id2\", \"id3\"]\n",
    "df_peptides = stfi.seq_to_tsv(sequences, unlabelled_aa=unlabelled_amino_acids, annotations=mock_annotations)\n",
    "df_peptides.head()"
   ]
  },
  {
   "cell_type": "markdown",
   "metadata": {},
   "source": [
    "### Get the composition of a list of modifications"
   ]
  },
  {
   "cell_type": "code",
   "execution_count": 83,
   "metadata": {},
   "outputs": [
    {
     "name": "stdout",
     "output_type": "stream",
     "text": [
      "Help on function get_mods_composition in module seq_to_first_iso.seq_to_first_iso:\n",
      "\n",
      "get_mods_composition(modifications)\n",
      "    Return the composition of a list of modifications.\n",
      "    \n",
      "    Parameters\n",
      "    ----------\n",
      "    modifications: list of str\n",
      "        List of modifications string (corresponding to Unimod titles).\n",
      "    \n",
      "    Returns\n",
      "    -------\n",
      "    pyteomics.mass.Composition\n",
      "        The total composition change.\n",
      "    \n",
      "    ???: Have the mass.Unimod() dict as parameter ?\n",
      "\n"
     ]
    }
   ],
   "source": [
    "help(stfi.get_mods_composition)"
   ]
  },
  {
   "cell_type": "code",
   "execution_count": 87,
   "metadata": {},
   "outputs": [
    {
     "name": "stderr",
     "output_type": "stream",
     "text": [
      "[2019-06-26, 14:18:02] WARNING : Unimod entry not found for : phospho\n"
     ]
    },
    {
     "name": "stdout",
     "output_type": "stream",
     "text": [
      "Total composition shift for ['Acetyl', 'Phospho', 'phospho'] is Composition({'H': 3, 'C': 2, 'O': 4, 'P': 1})\n"
     ]
    }
   ],
   "source": [
    "# Modifications must be strict Unimod entries title.\n",
    "modification_list = [\"Acetyl\", \"Phospho\", \"phospho\"]  # phospho does not correspond to a title, it will be ignored\n",
    "total_composition = stfi.get_mods_composition(modification_list)\n",
    "print(f\"Total composition shift for {modification_list} is {total_composition}\")"
   ]
  },
  {
   "cell_type": "markdown",
   "metadata": {},
   "source": [
    "### Get human-readable chemical formula"
   ]
  },
  {
   "cell_type": "code",
   "execution_count": 88,
   "metadata": {},
   "outputs": [
    {
     "name": "stdout",
     "output_type": "stream",
     "text": [
      "Help on function formula_to_str in module seq_to_first_iso.seq_to_first_iso:\n",
      "\n",
      "formula_to_str(composition)\n",
      "    Return formula from Composition as a string.\n",
      "    \n",
      "    Parameters\n",
      "    ----------\n",
      "    composition : pyteomics.mass.Composition\n",
      "        Chemical formula.\n",
      "    \n",
      "    Returns\n",
      "    -------\n",
      "    str\n",
      "        Human-readable string of the formula.\n",
      "    \n",
      "    Warnings\n",
      "    --------\n",
      "    If the composition has elements not in USED_ELEMS, they will not\n",
      "    be added to the output.\n",
      "\n"
     ]
    }
   ],
   "source": [
    "help(stfi.formula_to_str)"
   ]
  },
  {
   "cell_type": "code",
   "execution_count": 89,
   "metadata": {},
   "outputs": [
    {
     "name": "stdout",
     "output_type": "stream",
     "text": [
      "Composition({'H': 3, 'C': 2, 'O': 4, 'P': 1}) becomes C2H3O4P1\n"
     ]
    }
   ],
   "source": [
    "# This is the function used to get the formulas in the output.\n",
    "formula_str = stfi.formula_to_str(total_composition)\n",
    "print(f\"{total_composition} becomes {formula_str}\")"
   ]
  },
  {
   "cell_type": "code",
   "execution_count": 91,
   "metadata": {},
   "outputs": [
    {
     "name": "stdout",
     "output_type": "stream",
     "text": [
      "Composition({'H': 7, 'C': 3, 'O': 2, 'N': 1, 'Se': 1}) becomes C3H7O2N1\n"
     ]
    }
   ],
   "source": [
    "# !!! Warning: if the Composition has elements not in \"CHONPSX\", they will not be in the final string.\n",
    "bad_composition = mass.Composition(\"U\")\n",
    "formula_str = stfi.formula_to_str(bad_composition)\n",
    "print(f\"{bad_composition} becomes {formula_str}\")"
   ]
  },
  {
   "cell_type": "markdown",
   "metadata": {},
   "source": [
    "Here, \"non-CHONPSX\" element **Se (Selenium) is ignored**."
   ]
  }
 ],
 "metadata": {
  "kernelspec": {
   "display_name": "Python 3",
   "language": "python",
   "name": "python3"
  },
  "language_info": {
   "codemirror_mode": {
    "name": "ipython",
    "version": 3
   },
   "file_extension": ".py",
   "mimetype": "text/x-python",
   "name": "python",
   "nbconvert_exporter": "python",
   "pygments_lexer": "ipython3",
   "version": "3.7.3"
  }
 },
 "nbformat": 4,
 "nbformat_minor": 2
}
