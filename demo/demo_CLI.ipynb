{
 "cells": [
  {
   "cell_type": "markdown",
   "metadata": {},
   "source": [
    "# Seq-to-first-iso"
   ]
  },
  {
   "cell_type": "markdown",
   "metadata": {},
   "source": [
    "> Compute first two isotopologues intensities from sequences"
   ]
  },
  {
   "cell_type": "markdown",
   "metadata": {},
   "source": [
    "**seq-to-first-iso** is a tool to compute isotopologue intentities M0 and M1 of peptide sequences with Natural Carbon\n",
    "and with 99.99 % 12C enriched carbon.  \n",
    "The program can take into account unlabelled amino acids to simulate auxotrophies to amino acids."
   ]
  },
  {
   "cell_type": "markdown",
   "metadata": {},
   "source": [
    "---\n",
    "## Using the Command-Line Interface"
   ]
  },
  {
   "cell_type": "markdown",
   "metadata": {},
   "source": [
    "*Note: the exclamation marks \"!\" are used for the notebook, in a real terminal, you will not need them.*"
   ]
  },
  {
   "cell_type": "code",
   "execution_count": 1,
   "metadata": {},
   "outputs": [
    {
     "name": "stdout",
     "output_type": "stream",
     "text": [
      "seq-to-first-iso 0.4.3\r\n"
     ]
    }
   ],
   "source": [
    "!seq-to-first-iso -v"
   ]
  },
  {
   "cell_type": "code",
   "execution_count": 2,
   "metadata": {},
   "outputs": [
    {
     "name": "stdout",
     "output_type": "stream",
     "text": [
      "usage: seq-to-first-iso [-h] [-o OUTPUT] [-n amino_a] [-v] input\r\n",
      "\r\n",
      "Read a file of sequences and creates a tsv file\r\n",
      "\r\n",
      "positional arguments:\r\n",
      "  input                 file to parse\r\n",
      "\r\n",
      "optional arguments:\r\n",
      "  -h, --help            show this help message and exit\r\n",
      "  -o OUTPUT, --output OUTPUT\r\n",
      "                        name of output file\r\n",
      "  -n amino_a, --non-labelled-aa amino_a\r\n",
      "                        amino acids with default abundance\r\n",
      "  -v, --version         show program's version number and exit\r\n"
     ]
    }
   ],
   "source": [
    "!seq-to-first-iso -h"
   ]
  },
  {
   "cell_type": "markdown",
   "metadata": {},
   "source": [
    "The output file will have columns\n",
    "\n",
    "|sequence| mass| formula|formula_X| M0_NC| M1_NC| M0_12C| M1_12C|\n",
    "|--------|-----|--------|---------|------|------|-------|-------|\n",
    "original sequence|sequence mass|chemical formula|chemical formula with X|M0 in NC|M1 in NC|M0 in 12C|M1 in 12C\n",
    "\n",
    "X: Virtual element created to represent unlabelled carbon  \n",
    "NC: Normal Condition (Natural Carbon)  \n",
    "12C: 12C condition (12C enriched carbon)    "
   ]
  },
  {
   "cell_type": "code",
   "execution_count": 3,
   "metadata": {},
   "outputs": [
    {
     "name": "stdout",
     "output_type": "stream",
     "text": [
      "YAQEISR\r\n",
      "VGFPVLSVKEHK\r\n",
      "LAMVIIKEFVDDLK\r\n"
     ]
    }
   ],
   "source": [
    "# File used.\n",
    "!cat peptides.txt"
   ]
  },
  {
   "cell_type": "markdown",
   "metadata": {},
   "source": [
    "### Minimal command"
   ]
  },
  {
   "cell_type": "code",
   "execution_count": 4,
   "metadata": {},
   "outputs": [
    {
     "name": "stdout",
     "output_type": "stream",
     "text": [
      "[2019-06-26, 16:58:48] INFO    : Parsing file\n",
      "[2019-06-26, 16:58:48] INFO    : Computing formula\n",
      "[2019-06-26, 16:58:48] INFO    : Computing composition of modifications\n",
      "[2019-06-26, 16:58:48] INFO    : Computing mass\n",
      "[2019-06-26, 16:58:48] INFO    : Computing M0 and M1\n"
     ]
    }
   ],
   "source": [
    "!seq-to-first-iso peptides.txt"
   ]
  },
  {
   "cell_type": "markdown",
   "metadata": {},
   "source": [
    "Running the command above will create a file with tab-separated values : *peptides_stfi.tsv*"
   ]
  },
  {
   "cell_type": "code",
   "execution_count": 5,
   "metadata": {},
   "outputs": [
    {
     "name": "stdout",
     "output_type": "stream",
     "text": [
      "sequence        mass              formula          formula_X        M0_NC                M1_NC                M0_12C              M1_12C\r\n",
      "YAQEISR         865.42938099921   C37H59O13N11     C37H59O13N11     0.6206414140575179   0.280870823368276    0.9206561231798033  0.05161907174495234\r\n",
      "VGFPVLSVKEHK    1338.7659712609   C63H102O16N16    C63H102O16N16    0.4550358985377136   0.34506032928190855  0.8905224988642593  0.07411308335404865\r\n",
      "LAMVIIKEFVDDLK  1632.91606619252  C76H128O21N16S1  C76H128O21N16S1  0.36994021481230627  0.3373188347614264   0.8315762004558261  0.08101653544902196\r\n"
     ]
    }
   ],
   "source": [
    "!column -t peptides_stfi.tsv"
   ]
  },
  {
   "cell_type": "markdown",
   "metadata": {},
   "source": [
    "### Changing output name"
   ]
  },
  {
   "cell_type": "markdown",
   "metadata": {},
   "source": [
    "You can also change the name of the output file"
   ]
  },
  {
   "cell_type": "code",
   "execution_count": 6,
   "metadata": {},
   "outputs": [
    {
     "name": "stdout",
     "output_type": "stream",
     "text": [
      "[2019-06-26, 16:58:50] INFO    : Parsing file\r\n",
      "[2019-06-26, 16:58:50] INFO    : Computing formula\r\n",
      "[2019-06-26, 16:58:50] INFO    : Computing composition of modifications\r\n",
      "[2019-06-26, 16:58:50] INFO    : Computing mass\r\n",
      "[2019-06-26, 16:58:50] INFO    : Computing M0 and M1\r\n"
     ]
    }
   ],
   "source": [
    "!seq-to-first-iso peptides.txt -o sequence"
   ]
  },
  {
   "cell_type": "code",
   "execution_count": 7,
   "metadata": {},
   "outputs": [
    {
     "name": "stdout",
     "output_type": "stream",
     "text": [
      "sequence        mass              formula          formula_X        M0_NC                M1_NC                M0_12C              M1_12C\r\n",
      "YAQEISR         865.42938099921   C37H59O13N11     C37H59O13N11     0.6206414140575179   0.280870823368276    0.9206561231798033  0.05161907174495234\r\n",
      "VGFPVLSVKEHK    1338.7659712609   C63H102O16N16    C63H102O16N16    0.4550358985377136   0.34506032928190855  0.8905224988642593  0.07411308335404865\r\n",
      "LAMVIIKEFVDDLK  1632.91606619252  C76H128O21N16S1  C76H128O21N16S1  0.36994021481230627  0.3373188347614264   0.8315762004558261  0.08101653544902196\r\n"
     ]
    }
   ],
   "source": [
    "!column -t sequence.tsv"
   ]
  },
  {
   "cell_type": "markdown",
   "metadata": {},
   "source": [
    "### Choosing unlabelled amino acids"
   ]
  },
  {
   "cell_type": "code",
   "execution_count": 8,
   "metadata": {},
   "outputs": [
    {
     "name": "stdout",
     "output_type": "stream",
     "text": [
      "[2019-06-26, 16:58:52] INFO    : Amino acid with default abundance: ['V', 'W']\n",
      "[2019-06-26, 16:58:52] INFO    : Parsing file\n",
      "[2019-06-26, 16:58:52] INFO    : Computing formula\n",
      "[2019-06-26, 16:58:52] INFO    : Computing composition of modifications\n",
      "[2019-06-26, 16:58:52] INFO    : Computing mass\n",
      "[2019-06-26, 16:58:52] INFO    : Computing M0 and M1\n"
     ]
    }
   ],
   "source": [
    "!seq-to-first-iso peptides.txt -n V,W -o sequence"
   ]
  },
  {
   "cell_type": "code",
   "execution_count": 9,
   "metadata": {},
   "outputs": [
    {
     "name": "stdout",
     "output_type": "stream",
     "text": [
      "sequence        mass              formula          formula_X           M0_NC                M1_NC               M0_12C              M1_12C\r\n",
      "YAQEISR         865.42938099921   C37H59O13N11     C37H59O13N11        0.6206414140575179   0.280870823368276   0.9206561231798033  0.05161907174495234\r\n",
      "VGFPVLSVKEHK    1338.7659712609   C63H102O16N16    C48H102O16N16X15    0.45503589853771365  0.3450603292819086  0.7589558393662944  0.18515489894512063\r\n",
      "LAMVIIKEFVDDLK  1632.91606619252  C76H128O21N16S1  C66H128O21N16S1X10  0.36994021481230627  0.3373188347614264  0.7475090558698947  0.15292723586285323\r\n"
     ]
    }
   ],
   "source": [
    "!column -t sequence.tsv"
   ]
  },
  {
   "cell_type": "markdown",
   "metadata": {},
   "source": [
    "The carbon of unlabelled amino acids is shown as X in column \"formula_X\".  \n",
    "We can observe that for sequence \"YAQEISR\" that has no unlabelled amino acids, M0 and M1 are the same as the previous *sequence.tsv*, regardless of the condition.  \n",
    "In contrast sequence \"VGFPVLSVKEHK\", in 12C condition, has M0 go down from 0.8905224988642593 to 0.7589558393662944 and M1 go up from 0.07411308335404865 to 0.18515489894512063."
   ]
  }
 ],
 "metadata": {
  "kernelspec": {
   "display_name": "Python 3",
   "language": "python",
   "name": "python3"
  },
  "language_info": {
   "codemirror_mode": {
    "name": "ipython",
    "version": 3
   },
   "file_extension": ".py",
   "mimetype": "text/x-python",
   "name": "python",
   "nbconvert_exporter": "python",
   "pygments_lexer": "ipython3",
   "version": "3.7.3"
  }
 },
 "nbformat": 4,
 "nbformat_minor": 2
}
