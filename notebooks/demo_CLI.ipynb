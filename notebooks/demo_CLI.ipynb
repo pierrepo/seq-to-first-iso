{
 "cells": [
  {
   "cell_type": "markdown",
   "metadata": {},
   "source": [
    "# Command line interface of seq-to-first-iso\n",
    "\n",
    "**seq-to-first-iso** computes the first two isotopologue intentities (M0 and M1) from peptide sequences with natural carbon\n",
    "and with 99.99% 12C enriched carbon.\n",
    "\n",
    "The program can take into account unlabelled amino acids to simulate auxotrophies to amino acids.\n",
    "\n",
    "seq-to-first-iso is available as a Python module."
   ]
  },
  {
   "cell_type": "code",
   "execution_count": 1,
   "metadata": {},
   "outputs": [],
   "source": [
    "import pandas as pd  # For output visualisation."
   ]
  },
  {
   "cell_type": "markdown",
   "metadata": {},
   "source": [
    "*Note: the exclamation mark `!` is a magic command to run a Linux command within a Jupyter notebook. In a real Linux terminal, you don't need it.*"
   ]
  },
  {
   "cell_type": "code",
   "execution_count": 2,
   "metadata": {},
   "outputs": [
    {
     "name": "stdout",
     "output_type": "stream",
     "text": [
      "seq-to-first-iso 1.0.0\n"
     ]
    }
   ],
   "source": [
    "!seq-to-first-iso -v"
   ]
  },
  {
   "cell_type": "code",
   "execution_count": 3,
   "metadata": {},
   "outputs": [
    {
     "name": "stdout",
     "output_type": "stream",
     "text": [
      "usage: seq-to-first-iso [-h] [-o OUTPUT] [-u amino_a] [-v]\n",
      "                        input_file_name sequence_col_name charge_col_name\n",
      "\n",
      "Read a tsv file with sequences and charges and compute intensity of first\n",
      "isotopologues\n",
      "\n",
      "positional arguments:\n",
      "  input_file_name       file to parse in .tsv format\n",
      "  sequence_col_name     column name with sequences\n",
      "  charge_col_name       column name with charges\n",
      "\n",
      "optional arguments:\n",
      "  -h, --help            show this help message and exit\n",
      "  -o OUTPUT, --output OUTPUT\n",
      "                        name of output file\n",
      "  -u amino_a, --unlabelled-aa amino_a\n",
      "                        amino acids with default abundance\n",
      "  -v, --version         show program's version number and exit\n"
     ]
    }
   ],
   "source": [
    "!seq-to-first-iso -h"
   ]
  },
  {
   "cell_type": "code",
   "execution_count": 4,
   "metadata": {},
   "outputs": [
    {
     "name": "stdout",
     "output_type": "stream",
     "text": [
      "pep_name\tpep_sequence\tpep_charge\n",
      "seq1\tYAQEISR\t2\n",
      "seq2\tVLLIDLRIPQR(Phospho)SAINHIVAPNLVNVDPNLLWDK\t3\n",
      "seq3\tQRTTFFVLGINTVNYPDIYEHILER\t2\n",
      "seq4\tAELFL(Glutathione)LNR\t1\n",
      "seq5\t.(Acetyl)VGEVFINYIQRQNELFQGKLAYLII(Oxidation)DTCLSIVRPNDSKPLDNR\t4\n",
      "seq6\tYKTMNTFDPD(Heme)EKFEWFQVWQAVK\t2\n",
      "seq7\tHKSASSPAV(Pro-&gt;Val)NADTDIQDSSTPSTSPSGRR\t2\n",
      "seq8\tFHNK\t1\n",
      "seq9\t.(Glutathione)MDLEIK\t3\n",
      "seq10\tLANEKPEDVFER\t2\n",
      "seq11\t.(Acetyl)SDTPLR(Oxidation)D(Acetyl)EDG(Acetyl)LDFWETLRSLATTNPNPPVEK\t3\n"
     ]
    }
   ],
   "source": [
    "# File used.\n",
    "!cat peptides.tsv"
   ]
  },
  {
   "cell_type": "markdown",
   "metadata": {},
   "source": [
    "### Minimal command"
   ]
  },
  {
   "cell_type": "code",
   "execution_count": 5,
   "metadata": {},
   "outputs": [
    {
     "name": "stdout",
     "output_type": "stream",
     "text": [
      "Namespace(charge_col_name='pep_charge', input_file_name=PosixPath('peptides.tsv'), output=None, sequence_col_name='pep_sequence', unlabelled_aa=[])\n",
      "[2019-12-05, 17:22:32] INFO    : Parsing file\n",
      "[2019-12-05, 17:22:32] INFO    : Read peptides.tsv\n",
      "[2019-12-05, 17:22:32] INFO    : Found 11 lines and 3 columns\n",
      "[2019-12-05, 17:22:32] INFO    : Reading sequences.\n",
      "[2019-12-05, 17:22:32] INFO    : Computing composition and formula.\n",
      "[2019-12-05, 17:22:32] WARNING : Fe in (Heme) is not supported in the computation of M0 and M1\n",
      "[2019-12-05, 17:22:32] INFO    : Computing neutral mass\n",
      "[2019-12-05, 17:22:32] INFO    : Computing M0 and M1\n"
     ]
    }
   ],
   "source": [
    "!seq-to-first-iso peptides.tsv pep_sequence pep_charge"
   ]
  },
  {
   "cell_type": "markdown",
   "metadata": {},
   "source": [
    "Running the command above will write a tab-separated-values file (`peptides_stfi.tsv`)."
   ]
  },
  {
   "cell_type": "code",
   "execution_count": 6,
   "metadata": {},
   "outputs": [
    {
     "data": {
      "text/html": [
       "<div>\n",
       "<style scoped>\n",
       "    .dataframe tbody tr th:only-of-type {\n",
       "        vertical-align: middle;\n",
       "    }\n",
       "\n",
       "    .dataframe tbody tr th {\n",
       "        vertical-align: top;\n",
       "    }\n",
       "\n",
       "    .dataframe thead th {\n",
       "        text-align: right;\n",
       "    }\n",
       "</style>\n",
       "<table border=\"1\" class=\"dataframe\">\n",
       "  <thead>\n",
       "    <tr style=\"text-align: right;\">\n",
       "      <th></th>\n",
       "      <th>pep_name</th>\n",
       "      <th>pep_sequence</th>\n",
       "      <th>pep_charge</th>\n",
       "      <th>stfi_neutral_mass</th>\n",
       "      <th>stfi_formula</th>\n",
       "      <th>stfi_formula_X</th>\n",
       "      <th>stfi_M0_NC</th>\n",
       "      <th>stfi_M1_NC</th>\n",
       "      <th>stfi_M0_12C</th>\n",
       "      <th>stfi_M1_12C</th>\n",
       "    </tr>\n",
       "  </thead>\n",
       "  <tbody>\n",
       "    <tr>\n",
       "      <th>0</th>\n",
       "      <td>seq1</td>\n",
       "      <td>YAQEISR</td>\n",
       "      <td>2</td>\n",
       "      <td>865.429381</td>\n",
       "      <td>C37H61O13N11</td>\n",
       "      <td>C37H61O13N11</td>\n",
       "      <td>0.620499</td>\n",
       "      <td>0.280949</td>\n",
       "      <td>0.920444</td>\n",
       "      <td>0.051819</td>\n",
       "    </tr>\n",
       "    <tr>\n",
       "      <th>1</th>\n",
       "      <td>seq2</td>\n",
       "      <td>VLLIDLRIPQR(Phospho)SAINHIVAPNLVNVDPNLLWDK</td>\n",
       "      <td>3</td>\n",
       "      <td>3838.102264</td>\n",
       "      <td>C172H288O49N48P1</td>\n",
       "      <td>C172H288O49N48P1</td>\n",
       "      <td>0.113085</td>\n",
       "      <td>0.236277</td>\n",
       "      <td>0.707156</td>\n",
       "      <td>0.174161</td>\n",
       "    </tr>\n",
       "    <tr>\n",
       "      <th>2</th>\n",
       "      <td>seq3</td>\n",
       "      <td>QRTTFFVLGINTVNYPDIYEHILER</td>\n",
       "      <td>2</td>\n",
       "      <td>3037.566156</td>\n",
       "      <td>C140H214O40N36</td>\n",
       "      <td>C140H214O40N36</td>\n",
       "      <td>0.171920</td>\n",
       "      <td>0.290033</td>\n",
       "      <td>0.764407</td>\n",
       "      <td>0.142807</td>\n",
       "    </tr>\n",
       "    <tr>\n",
       "      <th>3</th>\n",
       "      <td>seq4</td>\n",
       "      <td>AELFL(Glutathione)LNR</td>\n",
       "      <td>1</td>\n",
       "      <td>1279.623072</td>\n",
       "      <td>C55H90O18N15S1</td>\n",
       "      <td>C55H90O18N15S1</td>\n",
       "      <td>0.470882</td>\n",
       "      <td>0.318073</td>\n",
       "      <td>0.846220</td>\n",
       "      <td>0.072875</td>\n",
       "    </tr>\n",
       "    <tr>\n",
       "      <th>4</th>\n",
       "      <td>seq5</td>\n",
       "      <td>.(Acetyl)VGEVFINYIQRQNELFQGKLAYLII(Oxidation)D...</td>\n",
       "      <td>4</td>\n",
       "      <td>5049.638616</td>\n",
       "      <td>C226H365O68N61S1</td>\n",
       "      <td>C226H365O68N61S1</td>\n",
       "      <td>0.054173</td>\n",
       "      <td>0.148735</td>\n",
       "      <td>0.602333</td>\n",
       "      <td>0.195036</td>\n",
       "    </tr>\n",
       "  </tbody>\n",
       "</table>\n",
       "</div>"
      ],
      "text/plain": [
       "  pep_name                                       pep_sequence  pep_charge  \\\n",
       "0     seq1                                            YAQEISR           2   \n",
       "1     seq2         VLLIDLRIPQR(Phospho)SAINHIVAPNLVNVDPNLLWDK           3   \n",
       "2     seq3                          QRTTFFVLGINTVNYPDIYEHILER           2   \n",
       "3     seq4                              AELFL(Glutathione)LNR           1   \n",
       "4     seq5  .(Acetyl)VGEVFINYIQRQNELFQGKLAYLII(Oxidation)D...           4   \n",
       "\n",
       "   stfi_neutral_mass      stfi_formula    stfi_formula_X  stfi_M0_NC  \\\n",
       "0         865.429381      C37H61O13N11      C37H61O13N11    0.620499   \n",
       "1        3838.102264  C172H288O49N48P1  C172H288O49N48P1    0.113085   \n",
       "2        3037.566156    C140H214O40N36    C140H214O40N36    0.171920   \n",
       "3        1279.623072    C55H90O18N15S1    C55H90O18N15S1    0.470882   \n",
       "4        5049.638616  C226H365O68N61S1  C226H365O68N61S1    0.054173   \n",
       "\n",
       "   stfi_M1_NC  stfi_M0_12C  stfi_M1_12C  \n",
       "0    0.280949     0.920444     0.051819  \n",
       "1    0.236277     0.707156     0.174161  \n",
       "2    0.290033     0.764407     0.142807  \n",
       "3    0.318073     0.846220     0.072875  \n",
       "4    0.148735     0.602333     0.195036  "
      ]
     },
     "execution_count": 6,
     "metadata": {},
     "output_type": "execute_result"
    }
   ],
   "source": [
    "# Read basic output file.\n",
    "df = pd.read_csv(\"peptides_stfi.tsv\", sep=\"\\t\")\n",
    "df.head()"
   ]
  },
  {
   "cell_type": "markdown",
   "metadata": {},
   "source": [
    "### Changing output name"
   ]
  },
  {
   "cell_type": "markdown",
   "metadata": {},
   "source": [
    "You can also change the name of the output file"
   ]
  },
  {
   "cell_type": "code",
   "execution_count": 7,
   "metadata": {},
   "outputs": [
    {
     "name": "stdout",
     "output_type": "stream",
     "text": [
      "Namespace(charge_col_name='pep_charge', input_file_name=PosixPath('peptides.tsv'), output='seq_stfi', sequence_col_name='pep_sequence', unlabelled_aa=[])\n",
      "[2019-12-05, 17:22:34] INFO    : Parsing file\n",
      "[2019-12-05, 17:22:34] INFO    : Read peptides.tsv\n",
      "[2019-12-05, 17:22:34] INFO    : Found 11 lines and 3 columns\n",
      "[2019-12-05, 17:22:34] INFO    : Reading sequences.\n",
      "[2019-12-05, 17:22:34] INFO    : Computing composition and formula.\n",
      "[2019-12-05, 17:22:34] WARNING : Fe in (Heme) is not supported in the computation of M0 and M1\n",
      "[2019-12-05, 17:22:34] INFO    : Computing neutral mass\n",
      "[2019-12-05, 17:22:34] INFO    : Computing M0 and M1\n"
     ]
    }
   ],
   "source": [
    "!seq-to-first-iso peptides.tsv pep_sequence pep_charge -o seq_stfi"
   ]
  },
  {
   "cell_type": "code",
   "execution_count": 8,
   "metadata": {},
   "outputs": [
    {
     "data": {
      "text/html": [
       "<div>\n",
       "<style scoped>\n",
       "    .dataframe tbody tr th:only-of-type {\n",
       "        vertical-align: middle;\n",
       "    }\n",
       "\n",
       "    .dataframe tbody tr th {\n",
       "        vertical-align: top;\n",
       "    }\n",
       "\n",
       "    .dataframe thead th {\n",
       "        text-align: right;\n",
       "    }\n",
       "</style>\n",
       "<table border=\"1\" class=\"dataframe\">\n",
       "  <thead>\n",
       "    <tr style=\"text-align: right;\">\n",
       "      <th></th>\n",
       "      <th>pep_name</th>\n",
       "      <th>pep_sequence</th>\n",
       "      <th>pep_charge</th>\n",
       "      <th>stfi_neutral_mass</th>\n",
       "      <th>stfi_formula</th>\n",
       "      <th>stfi_formula_X</th>\n",
       "      <th>stfi_M0_NC</th>\n",
       "      <th>stfi_M1_NC</th>\n",
       "      <th>stfi_M0_12C</th>\n",
       "      <th>stfi_M1_12C</th>\n",
       "    </tr>\n",
       "  </thead>\n",
       "  <tbody>\n",
       "    <tr>\n",
       "      <th>0</th>\n",
       "      <td>seq1</td>\n",
       "      <td>YAQEISR</td>\n",
       "      <td>2</td>\n",
       "      <td>865.429381</td>\n",
       "      <td>C37H61O13N11</td>\n",
       "      <td>C37H61O13N11</td>\n",
       "      <td>0.620499</td>\n",
       "      <td>0.280949</td>\n",
       "      <td>0.920444</td>\n",
       "      <td>0.051819</td>\n",
       "    </tr>\n",
       "    <tr>\n",
       "      <th>1</th>\n",
       "      <td>seq2</td>\n",
       "      <td>VLLIDLRIPQR(Phospho)SAINHIVAPNLVNVDPNLLWDK</td>\n",
       "      <td>3</td>\n",
       "      <td>3838.102264</td>\n",
       "      <td>C172H288O49N48P1</td>\n",
       "      <td>C172H288O49N48P1</td>\n",
       "      <td>0.113085</td>\n",
       "      <td>0.236277</td>\n",
       "      <td>0.707156</td>\n",
       "      <td>0.174161</td>\n",
       "    </tr>\n",
       "    <tr>\n",
       "      <th>2</th>\n",
       "      <td>seq3</td>\n",
       "      <td>QRTTFFVLGINTVNYPDIYEHILER</td>\n",
       "      <td>2</td>\n",
       "      <td>3037.566156</td>\n",
       "      <td>C140H214O40N36</td>\n",
       "      <td>C140H214O40N36</td>\n",
       "      <td>0.171920</td>\n",
       "      <td>0.290033</td>\n",
       "      <td>0.764407</td>\n",
       "      <td>0.142807</td>\n",
       "    </tr>\n",
       "    <tr>\n",
       "      <th>3</th>\n",
       "      <td>seq4</td>\n",
       "      <td>AELFL(Glutathione)LNR</td>\n",
       "      <td>1</td>\n",
       "      <td>1279.623072</td>\n",
       "      <td>C55H90O18N15S1</td>\n",
       "      <td>C55H90O18N15S1</td>\n",
       "      <td>0.470882</td>\n",
       "      <td>0.318073</td>\n",
       "      <td>0.846220</td>\n",
       "      <td>0.072875</td>\n",
       "    </tr>\n",
       "    <tr>\n",
       "      <th>4</th>\n",
       "      <td>seq5</td>\n",
       "      <td>.(Acetyl)VGEVFINYIQRQNELFQGKLAYLII(Oxidation)D...</td>\n",
       "      <td>4</td>\n",
       "      <td>5049.638616</td>\n",
       "      <td>C226H365O68N61S1</td>\n",
       "      <td>C226H365O68N61S1</td>\n",
       "      <td>0.054173</td>\n",
       "      <td>0.148735</td>\n",
       "      <td>0.602333</td>\n",
       "      <td>0.195036</td>\n",
       "    </tr>\n",
       "  </tbody>\n",
       "</table>\n",
       "</div>"
      ],
      "text/plain": [
       "  pep_name                                       pep_sequence  pep_charge  \\\n",
       "0     seq1                                            YAQEISR           2   \n",
       "1     seq2         VLLIDLRIPQR(Phospho)SAINHIVAPNLVNVDPNLLWDK           3   \n",
       "2     seq3                          QRTTFFVLGINTVNYPDIYEHILER           2   \n",
       "3     seq4                              AELFL(Glutathione)LNR           1   \n",
       "4     seq5  .(Acetyl)VGEVFINYIQRQNELFQGKLAYLII(Oxidation)D...           4   \n",
       "\n",
       "   stfi_neutral_mass      stfi_formula    stfi_formula_X  stfi_M0_NC  \\\n",
       "0         865.429381      C37H61O13N11      C37H61O13N11    0.620499   \n",
       "1        3838.102264  C172H288O49N48P1  C172H288O49N48P1    0.113085   \n",
       "2        3037.566156    C140H214O40N36    C140H214O40N36    0.171920   \n",
       "3        1279.623072    C55H90O18N15S1    C55H90O18N15S1    0.470882   \n",
       "4        5049.638616  C226H365O68N61S1  C226H365O68N61S1    0.054173   \n",
       "\n",
       "   stfi_M1_NC  stfi_M0_12C  stfi_M1_12C  \n",
       "0    0.280949     0.920444     0.051819  \n",
       "1    0.236277     0.707156     0.174161  \n",
       "2    0.290033     0.764407     0.142807  \n",
       "3    0.318073     0.846220     0.072875  \n",
       "4    0.148735     0.602333     0.195036  "
      ]
     },
     "execution_count": 8,
     "metadata": {},
     "output_type": "execute_result"
    }
   ],
   "source": [
    "# Read output file with different name.\n",
    "df = pd.read_csv(\"seq_stfi.tsv\", sep=\"\\t\")\n",
    "df.head()"
   ]
  },
  {
   "cell_type": "markdown",
   "metadata": {},
   "source": [
    "### Specifying unlabelled amino acids"
   ]
  },
  {
   "cell_type": "code",
   "execution_count": 9,
   "metadata": {},
   "outputs": [
    {
     "name": "stdout",
     "output_type": "stream",
     "text": [
      "Namespace(charge_col_name='pep_charge', input_file_name=PosixPath('peptides.tsv'), output=None, sequence_col_name='pep_sequence', unlabelled_aa=['V', 'W'])\n",
      "[2019-12-05, 17:22:36] INFO    : Amino acid with default abundance: ['V', 'W']\n",
      "[2019-12-05, 17:22:36] INFO    : Parsing file\n",
      "[2019-12-05, 17:22:36] INFO    : Read peptides.tsv\n",
      "[2019-12-05, 17:22:36] INFO    : Found 11 lines and 3 columns\n",
      "[2019-12-05, 17:22:36] INFO    : Reading sequences.\n",
      "[2019-12-05, 17:22:36] INFO    : Computing composition and formula.\n",
      "[2019-12-05, 17:22:36] WARNING : Fe in (Heme) is not supported in the computation of M0 and M1\n",
      "[2019-12-05, 17:22:36] INFO    : Computing neutral mass\n",
      "[2019-12-05, 17:22:36] INFO    : Computing M0 and M1\n"
     ]
    }
   ],
   "source": [
    "!seq-to-first-iso peptides.tsv pep_sequence pep_charge -u V,W"
   ]
  },
  {
   "cell_type": "code",
   "execution_count": 10,
   "metadata": {},
   "outputs": [
    {
     "data": {
      "text/html": [
       "<div>\n",
       "<style scoped>\n",
       "    .dataframe tbody tr th:only-of-type {\n",
       "        vertical-align: middle;\n",
       "    }\n",
       "\n",
       "    .dataframe tbody tr th {\n",
       "        vertical-align: top;\n",
       "    }\n",
       "\n",
       "    .dataframe thead th {\n",
       "        text-align: right;\n",
       "    }\n",
       "</style>\n",
       "<table border=\"1\" class=\"dataframe\">\n",
       "  <thead>\n",
       "    <tr style=\"text-align: right;\">\n",
       "      <th></th>\n",
       "      <th>pep_name</th>\n",
       "      <th>pep_sequence</th>\n",
       "      <th>pep_charge</th>\n",
       "      <th>stfi_neutral_mass</th>\n",
       "      <th>stfi_formula</th>\n",
       "      <th>stfi_formula_X</th>\n",
       "      <th>stfi_M0_NC</th>\n",
       "      <th>stfi_M1_NC</th>\n",
       "      <th>stfi_M0_12C</th>\n",
       "      <th>stfi_M1_12C</th>\n",
       "    </tr>\n",
       "  </thead>\n",
       "  <tbody>\n",
       "    <tr>\n",
       "      <th>0</th>\n",
       "      <td>seq1</td>\n",
       "      <td>YAQEISR</td>\n",
       "      <td>2</td>\n",
       "      <td>865.429381</td>\n",
       "      <td>C37H61O13N11</td>\n",
       "      <td>C37H61O13N11</td>\n",
       "      <td>0.620499</td>\n",
       "      <td>0.280949</td>\n",
       "      <td>0.920444</td>\n",
       "      <td>0.051819</td>\n",
       "    </tr>\n",
       "    <tr>\n",
       "      <th>1</th>\n",
       "      <td>seq2</td>\n",
       "      <td>VLLIDLRIPQR(Phospho)SAINHIVAPNLVNVDPNLLWDK</td>\n",
       "      <td>3</td>\n",
       "      <td>3838.102264</td>\n",
       "      <td>C172H288O49N48P1</td>\n",
       "      <td>C141H288O49N48P1X31</td>\n",
       "      <td>0.113085</td>\n",
       "      <td>0.236277</td>\n",
       "      <td>0.508195</td>\n",
       "      <td>0.293976</td>\n",
       "    </tr>\n",
       "    <tr>\n",
       "      <th>2</th>\n",
       "      <td>seq3</td>\n",
       "      <td>QRTTFFVLGINTVNYPDIYEHILER</td>\n",
       "      <td>2</td>\n",
       "      <td>3037.566156</td>\n",
       "      <td>C140H214O40N36</td>\n",
       "      <td>C130H214O40N36X10</td>\n",
       "      <td>0.171920</td>\n",
       "      <td>0.290033</td>\n",
       "      <td>0.687130</td>\n",
       "      <td>0.202001</td>\n",
       "    </tr>\n",
       "    <tr>\n",
       "      <th>3</th>\n",
       "      <td>seq4</td>\n",
       "      <td>AELFL(Glutathione)LNR</td>\n",
       "      <td>1</td>\n",
       "      <td>1279.623072</td>\n",
       "      <td>C55H90O18N15S1</td>\n",
       "      <td>C55H90O18N15S1</td>\n",
       "      <td>0.470882</td>\n",
       "      <td>0.318073</td>\n",
       "      <td>0.846220</td>\n",
       "      <td>0.072875</td>\n",
       "    </tr>\n",
       "    <tr>\n",
       "      <th>4</th>\n",
       "      <td>seq5</td>\n",
       "      <td>.(Acetyl)VGEVFINYIQRQNELFQGKLAYLII(Oxidation)D...</td>\n",
       "      <td>4</td>\n",
       "      <td>5049.638616</td>\n",
       "      <td>C226H365O68N61S1</td>\n",
       "      <td>C211H365O68N61S1X15</td>\n",
       "      <td>0.054173</td>\n",
       "      <td>0.148735</td>\n",
       "      <td>0.513344</td>\n",
       "      <td>0.248734</td>\n",
       "    </tr>\n",
       "  </tbody>\n",
       "</table>\n",
       "</div>"
      ],
      "text/plain": [
       "  pep_name                                       pep_sequence  pep_charge  \\\n",
       "0     seq1                                            YAQEISR           2   \n",
       "1     seq2         VLLIDLRIPQR(Phospho)SAINHIVAPNLVNVDPNLLWDK           3   \n",
       "2     seq3                          QRTTFFVLGINTVNYPDIYEHILER           2   \n",
       "3     seq4                              AELFL(Glutathione)LNR           1   \n",
       "4     seq5  .(Acetyl)VGEVFINYIQRQNELFQGKLAYLII(Oxidation)D...           4   \n",
       "\n",
       "   stfi_neutral_mass      stfi_formula       stfi_formula_X  stfi_M0_NC  \\\n",
       "0         865.429381      C37H61O13N11         C37H61O13N11    0.620499   \n",
       "1        3838.102264  C172H288O49N48P1  C141H288O49N48P1X31    0.113085   \n",
       "2        3037.566156    C140H214O40N36    C130H214O40N36X10    0.171920   \n",
       "3        1279.623072    C55H90O18N15S1       C55H90O18N15S1    0.470882   \n",
       "4        5049.638616  C226H365O68N61S1  C211H365O68N61S1X15    0.054173   \n",
       "\n",
       "   stfi_M1_NC  stfi_M0_12C  stfi_M1_12C  \n",
       "0    0.280949     0.920444     0.051819  \n",
       "1    0.236277     0.508195     0.293976  \n",
       "2    0.290033     0.687130     0.202001  \n",
       "3    0.318073     0.846220     0.072875  \n",
       "4    0.148735     0.513344     0.248734  "
      ]
     },
     "execution_count": 10,
     "metadata": {},
     "output_type": "execute_result"
    }
   ],
   "source": [
    "# Read output file with different name and unlabelled amino acids.\n",
    "df = pd.read_csv(\"peptides_stfi.tsv\", sep=\"\\t\")\n",
    "df.head()"
   ]
  },
  {
   "cell_type": "markdown",
   "metadata": {},
   "source": [
    "The carbon of unlabelled amino acids is shown as `X` in column `stfi_formula_X`.  \n",
    "\n",
    "For peptide `YAQEISR`, there is no unlabelled amino acids, `stfi_formula` and `stfi_formula_X` are identical. M0 and M1 intensities are not affected by the V and W auxotrophy.\n"
   ]
  },
  {
   "cell_type": "code",
   "execution_count": null,
   "metadata": {},
   "outputs": [],
   "source": []
  }
 ],
 "metadata": {
  "kernelspec": {
   "display_name": "Python 3",
   "language": "python",
   "name": "python3"
  },
  "language_info": {
   "codemirror_mode": {
    "name": "ipython",
    "version": 3
   },
   "file_extension": ".py",
   "mimetype": "text/x-python",
   "name": "python",
   "nbconvert_exporter": "python",
   "pygments_lexer": "ipython3",
   "version": "3.7.5"
  }
 },
 "nbformat": 4,
 "nbformat_minor": 4
}
