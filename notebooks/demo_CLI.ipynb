{
 "cells": [
  {
   "cell_type": "markdown",
   "metadata": {},
   "source": [
    "# Command line interface of seq-to-first-iso\n",
    "\n",
    "**seq-to-first-iso** computes the first two isotopologue intentities (M0 and M1) from peptide sequences with natural carbon\n",
    "and with 99.99 % 12C enriched carbon.\n",
    "\n",
    "The program can take into account unlabelled amino acids to simulate auxotrophies to amino acids.\n",
    "\n",
    "seq-to-first-iso is available as a command line tool."
   ]
  },
  {
   "cell_type": "code",
   "execution_count": 1,
   "metadata": {},
   "outputs": [],
   "source": [
    "import pandas as pd  # For output visualisation."
   ]
  },
  {
   "cell_type": "markdown",
   "metadata": {},
   "source": [
    "*Note: the exclamation mark `!` is a magic command to run a Linux command within a Jupyter notebook. In a real Linux terminal, you don't need it.*"
   ]
  },
  {
   "cell_type": "code",
   "execution_count": 1,
   "metadata": {},
   "outputs": [
    {
     "name": "stdout",
     "output_type": "stream",
     "text": [
      "/bin/sh: 1: seq-to-first-iso: not found\n"
     ]
    }
   ],
   "source": [
    "!seq-to-first-iso -v"
   ]
  },
  {
   "cell_type": "code",
   "execution_count": 3,
   "metadata": {},
   "outputs": [
    {
     "name": "stdout",
     "output_type": "stream",
     "text": [
      "usage: seq-to-first-iso [-h] [-o OUTPUT] [-n amino_a] [-v] input\n",
      "\n",
      "Read a file of sequences and creates a tsv file\n",
      "\n",
      "positional arguments:\n",
      "  input                 file to parse\n",
      "\n",
      "optional arguments:\n",
      "  -h, --help            show this help message and exit\n",
      "  -o OUTPUT, --output OUTPUT\n",
      "                        name of output file\n",
      "  -n amino_a, --non-labelled-aa amino_a\n",
      "                        amino acids with default abundance\n",
      "  -v, --version         show program's version number and exit\n"
     ]
    }
   ],
   "source": [
    "!seq-to-first-iso -h"
   ]
  },
  {
   "cell_type": "markdown",
   "metadata": {},
   "source": [
    "The output file will have columns\n",
    "\n",
    "|sequence| mass| formula|formula_X| M0_NC| M1_NC| M0_12C| M1_12C|\n",
    "|--------|-----|--------|---------|------|------|-------|-------|\n",
    "original sequence|sequence mass|chemical formula|chemical formula with X|M0 in NC|M1 in NC|M0 in 12C|M1 in 12C\n",
    "\n",
    "X: Virtual element created to represent unlabelled carbon  \n",
    "NC: Normal Condition (Natural Carbon)  \n",
    "12C: 12C condition (12C enriched carbon)    "
   ]
  },
  {
   "cell_type": "code",
   "execution_count": 4,
   "metadata": {},
   "outputs": [
    {
     "name": "stdout",
     "output_type": "stream",
     "text": [
      "YAQEISR\n",
      "VGFPVLSVKEHK\n",
      "LAMVIIKEFVDDLK\n"
     ]
    }
   ],
   "source": [
    "# File used.\n",
    "!cat peptides.txt"
   ]
  },
  {
   "cell_type": "markdown",
   "metadata": {},
   "source": [
    "### Minimal command"
   ]
  },
  {
   "cell_type": "code",
   "execution_count": 5,
   "metadata": {},
   "outputs": [
    {
     "name": "stdout",
     "output_type": "stream",
     "text": [
      "[2019-06-27, 15:51:01] INFO    : Parsing file\n",
      "[2019-06-27, 15:51:01] INFO    : Computing formula\n",
      "[2019-06-27, 15:51:01] INFO    : Computing composition of modifications\n",
      "[2019-06-27, 15:51:01] INFO    : Computing mass\n",
      "[2019-06-27, 15:51:01] INFO    : Computing M0 and M1\n"
     ]
    }
   ],
   "source": [
    "!seq-to-first-iso peptides.txt"
   ]
  },
  {
   "cell_type": "markdown",
   "metadata": {},
   "source": [
    "Running the command above will create a file with tab-separated values : *peptides_stfi.tsv*"
   ]
  },
  {
   "cell_type": "code",
   "execution_count": 6,
   "metadata": {},
   "outputs": [
    {
     "data": {
      "text/html": [
       "<div>\n",
       "<style scoped>\n",
       "    .dataframe tbody tr th:only-of-type {\n",
       "        vertical-align: middle;\n",
       "    }\n",
       "\n",
       "    .dataframe tbody tr th {\n",
       "        vertical-align: top;\n",
       "    }\n",
       "\n",
       "    .dataframe thead th {\n",
       "        text-align: right;\n",
       "    }\n",
       "</style>\n",
       "<table border=\"1\" class=\"dataframe\">\n",
       "  <thead>\n",
       "    <tr style=\"text-align: right;\">\n",
       "      <th></th>\n",
       "      <th>sequence</th>\n",
       "      <th>mass</th>\n",
       "      <th>formula</th>\n",
       "      <th>formula_X</th>\n",
       "      <th>M0_NC</th>\n",
       "      <th>M1_NC</th>\n",
       "      <th>M0_12C</th>\n",
       "      <th>M1_12C</th>\n",
       "    </tr>\n",
       "  </thead>\n",
       "  <tbody>\n",
       "    <tr>\n",
       "      <th>0</th>\n",
       "      <td>YAQEISR</td>\n",
       "      <td>865.429381</td>\n",
       "      <td>C37H59O13N11</td>\n",
       "      <td>C37H59O13N11</td>\n",
       "      <td>0.620641</td>\n",
       "      <td>0.280871</td>\n",
       "      <td>0.920656</td>\n",
       "      <td>0.051619</td>\n",
       "    </tr>\n",
       "    <tr>\n",
       "      <th>1</th>\n",
       "      <td>VGFPVLSVKEHK</td>\n",
       "      <td>1338.765971</td>\n",
       "      <td>C63H102O16N16</td>\n",
       "      <td>C63H102O16N16</td>\n",
       "      <td>0.455036</td>\n",
       "      <td>0.345060</td>\n",
       "      <td>0.890522</td>\n",
       "      <td>0.074113</td>\n",
       "    </tr>\n",
       "    <tr>\n",
       "      <th>2</th>\n",
       "      <td>LAMVIIKEFVDDLK</td>\n",
       "      <td>1632.916066</td>\n",
       "      <td>C76H128O21N16S1</td>\n",
       "      <td>C76H128O21N16S1</td>\n",
       "      <td>0.369940</td>\n",
       "      <td>0.337319</td>\n",
       "      <td>0.831576</td>\n",
       "      <td>0.081017</td>\n",
       "    </tr>\n",
       "  </tbody>\n",
       "</table>\n",
       "</div>"
      ],
      "text/plain": [
       "         sequence         mass          formula        formula_X     M0_NC  \\\n",
       "0         YAQEISR   865.429381     C37H59O13N11     C37H59O13N11  0.620641   \n",
       "1    VGFPVLSVKEHK  1338.765971    C63H102O16N16    C63H102O16N16  0.455036   \n",
       "2  LAMVIIKEFVDDLK  1632.916066  C76H128O21N16S1  C76H128O21N16S1  0.369940   \n",
       "\n",
       "      M1_NC    M0_12C    M1_12C  \n",
       "0  0.280871  0.920656  0.051619  \n",
       "1  0.345060  0.890522  0.074113  \n",
       "2  0.337319  0.831576  0.081017  "
      ]
     },
     "execution_count": 6,
     "metadata": {},
     "output_type": "execute_result"
    }
   ],
   "source": [
    "# Read basic output file.\n",
    "df = pd.read_csv(\"peptides_stfi.tsv\", sep=\"\\t\")\n",
    "df.head()"
   ]
  },
  {
   "cell_type": "markdown",
   "metadata": {},
   "source": [
    "### Changing output name"
   ]
  },
  {
   "cell_type": "markdown",
   "metadata": {},
   "source": [
    "You can also change the name of the output file"
   ]
  },
  {
   "cell_type": "code",
   "execution_count": 7,
   "metadata": {},
   "outputs": [
    {
     "name": "stdout",
     "output_type": "stream",
     "text": [
      "[2019-06-27, 15:51:04] INFO    : Parsing file\n",
      "[2019-06-27, 15:51:04] INFO    : Computing formula\n",
      "[2019-06-27, 15:51:04] INFO    : Computing composition of modifications\n",
      "[2019-06-27, 15:51:04] INFO    : Computing mass\n",
      "[2019-06-27, 15:51:04] INFO    : Computing M0 and M1\n"
     ]
    }
   ],
   "source": [
    "!seq-to-first-iso peptides.txt -o sequence"
   ]
  },
  {
   "cell_type": "code",
   "execution_count": 8,
   "metadata": {},
   "outputs": [
    {
     "data": {
      "text/html": [
       "<div>\n",
       "<style scoped>\n",
       "    .dataframe tbody tr th:only-of-type {\n",
       "        vertical-align: middle;\n",
       "    }\n",
       "\n",
       "    .dataframe tbody tr th {\n",
       "        vertical-align: top;\n",
       "    }\n",
       "\n",
       "    .dataframe thead th {\n",
       "        text-align: right;\n",
       "    }\n",
       "</style>\n",
       "<table border=\"1\" class=\"dataframe\">\n",
       "  <thead>\n",
       "    <tr style=\"text-align: right;\">\n",
       "      <th></th>\n",
       "      <th>sequence</th>\n",
       "      <th>mass</th>\n",
       "      <th>formula</th>\n",
       "      <th>formula_X</th>\n",
       "      <th>M0_NC</th>\n",
       "      <th>M1_NC</th>\n",
       "      <th>M0_12C</th>\n",
       "      <th>M1_12C</th>\n",
       "    </tr>\n",
       "  </thead>\n",
       "  <tbody>\n",
       "    <tr>\n",
       "      <th>0</th>\n",
       "      <td>YAQEISR</td>\n",
       "      <td>865.429381</td>\n",
       "      <td>C37H59O13N11</td>\n",
       "      <td>C37H59O13N11</td>\n",
       "      <td>0.620641</td>\n",
       "      <td>0.280871</td>\n",
       "      <td>0.920656</td>\n",
       "      <td>0.051619</td>\n",
       "    </tr>\n",
       "    <tr>\n",
       "      <th>1</th>\n",
       "      <td>VGFPVLSVKEHK</td>\n",
       "      <td>1338.765971</td>\n",
       "      <td>C63H102O16N16</td>\n",
       "      <td>C63H102O16N16</td>\n",
       "      <td>0.455036</td>\n",
       "      <td>0.345060</td>\n",
       "      <td>0.890522</td>\n",
       "      <td>0.074113</td>\n",
       "    </tr>\n",
       "    <tr>\n",
       "      <th>2</th>\n",
       "      <td>LAMVIIKEFVDDLK</td>\n",
       "      <td>1632.916066</td>\n",
       "      <td>C76H128O21N16S1</td>\n",
       "      <td>C76H128O21N16S1</td>\n",
       "      <td>0.369940</td>\n",
       "      <td>0.337319</td>\n",
       "      <td>0.831576</td>\n",
       "      <td>0.081017</td>\n",
       "    </tr>\n",
       "  </tbody>\n",
       "</table>\n",
       "</div>"
      ],
      "text/plain": [
       "         sequence         mass          formula        formula_X     M0_NC  \\\n",
       "0         YAQEISR   865.429381     C37H59O13N11     C37H59O13N11  0.620641   \n",
       "1    VGFPVLSVKEHK  1338.765971    C63H102O16N16    C63H102O16N16  0.455036   \n",
       "2  LAMVIIKEFVDDLK  1632.916066  C76H128O21N16S1  C76H128O21N16S1  0.369940   \n",
       "\n",
       "      M1_NC    M0_12C    M1_12C  \n",
       "0  0.280871  0.920656  0.051619  \n",
       "1  0.345060  0.890522  0.074113  \n",
       "2  0.337319  0.831576  0.081017  "
      ]
     },
     "execution_count": 8,
     "metadata": {},
     "output_type": "execute_result"
    }
   ],
   "source": [
    "# Read output file with different name.\n",
    "df = pd.read_csv(\"sequence.tsv\", sep=\"\\t\")\n",
    "df.head()"
   ]
  },
  {
   "cell_type": "markdown",
   "metadata": {},
   "source": [
    "### Choosing unlabelled amino acids"
   ]
  },
  {
   "cell_type": "code",
   "execution_count": 9,
   "metadata": {},
   "outputs": [
    {
     "name": "stdout",
     "output_type": "stream",
     "text": [
      "[2019-06-27, 15:51:07] INFO    : Amino acid with default abundance: ['V', 'W']\n",
      "[2019-06-27, 15:51:07] INFO    : Parsing file\n",
      "[2019-06-27, 15:51:07] INFO    : Computing formula\n",
      "[2019-06-27, 15:51:07] INFO    : Computing composition of modifications\n",
      "[2019-06-27, 15:51:07] INFO    : Computing mass\n",
      "[2019-06-27, 15:51:07] INFO    : Computing M0 and M1\n"
     ]
    }
   ],
   "source": [
    "!seq-to-first-iso peptides.txt -n V,W -o sequence"
   ]
  },
  {
   "cell_type": "code",
   "execution_count": 10,
   "metadata": {},
   "outputs": [
    {
     "data": {
      "text/html": [
       "<div>\n",
       "<style scoped>\n",
       "    .dataframe tbody tr th:only-of-type {\n",
       "        vertical-align: middle;\n",
       "    }\n",
       "\n",
       "    .dataframe tbody tr th {\n",
       "        vertical-align: top;\n",
       "    }\n",
       "\n",
       "    .dataframe thead th {\n",
       "        text-align: right;\n",
       "    }\n",
       "</style>\n",
       "<table border=\"1\" class=\"dataframe\">\n",
       "  <thead>\n",
       "    <tr style=\"text-align: right;\">\n",
       "      <th></th>\n",
       "      <th>sequence</th>\n",
       "      <th>mass</th>\n",
       "      <th>formula</th>\n",
       "      <th>formula_X</th>\n",
       "      <th>M0_NC</th>\n",
       "      <th>M1_NC</th>\n",
       "      <th>M0_12C</th>\n",
       "      <th>M1_12C</th>\n",
       "    </tr>\n",
       "  </thead>\n",
       "  <tbody>\n",
       "    <tr>\n",
       "      <th>0</th>\n",
       "      <td>YAQEISR</td>\n",
       "      <td>865.429381</td>\n",
       "      <td>C37H59O13N11</td>\n",
       "      <td>C37H59O13N11</td>\n",
       "      <td>0.620641</td>\n",
       "      <td>0.280871</td>\n",
       "      <td>0.920656</td>\n",
       "      <td>0.051619</td>\n",
       "    </tr>\n",
       "    <tr>\n",
       "      <th>1</th>\n",
       "      <td>VGFPVLSVKEHK</td>\n",
       "      <td>1338.765971</td>\n",
       "      <td>C63H102O16N16</td>\n",
       "      <td>C48H102O16N16X15</td>\n",
       "      <td>0.455036</td>\n",
       "      <td>0.345060</td>\n",
       "      <td>0.758956</td>\n",
       "      <td>0.185155</td>\n",
       "    </tr>\n",
       "    <tr>\n",
       "      <th>2</th>\n",
       "      <td>LAMVIIKEFVDDLK</td>\n",
       "      <td>1632.916066</td>\n",
       "      <td>C76H128O21N16S1</td>\n",
       "      <td>C66H128O21N16S1X10</td>\n",
       "      <td>0.369940</td>\n",
       "      <td>0.337319</td>\n",
       "      <td>0.747509</td>\n",
       "      <td>0.152927</td>\n",
       "    </tr>\n",
       "  </tbody>\n",
       "</table>\n",
       "</div>"
      ],
      "text/plain": [
       "         sequence         mass          formula           formula_X     M0_NC  \\\n",
       "0         YAQEISR   865.429381     C37H59O13N11        C37H59O13N11  0.620641   \n",
       "1    VGFPVLSVKEHK  1338.765971    C63H102O16N16    C48H102O16N16X15  0.455036   \n",
       "2  LAMVIIKEFVDDLK  1632.916066  C76H128O21N16S1  C66H128O21N16S1X10  0.369940   \n",
       "\n",
       "      M1_NC    M0_12C    M1_12C  \n",
       "0  0.280871  0.920656  0.051619  \n",
       "1  0.345060  0.758956  0.185155  \n",
       "2  0.337319  0.747509  0.152927  "
      ]
     },
     "execution_count": 10,
     "metadata": {},
     "output_type": "execute_result"
    }
   ],
   "source": [
    "# Read output file with different name and unlabelled amino acids.\n",
    "df = pd.read_csv(\"sequence.tsv\", sep=\"\\t\")\n",
    "df.head()"
   ]
  },
  {
   "cell_type": "markdown",
   "metadata": {},
   "source": [
    "The carbon of unlabelled amino acids is shown as X in column \"formula_X\".  \n",
    "We can observe that for sequence \"YAQEISR\" that has no unlabelled amino acids, M0 and M1 are the same as the previous *sequence.tsv*, regardless of the condition.  \n",
    "In contrast sequence \"VGFPVLSVKEHK\", in 12C condition, has M0 go down from 0.8905224988642593 to 0.7589558393662944 and M1 go up from 0.07411308335404865 to 0.18515489894512063."
   ]
  }
 ],
 "metadata": {
  "kernelspec": {
   "display_name": "Python 3",
   "language": "python",
   "name": "python3"
  },
  "language_info": {
   "codemirror_mode": {
    "name": "ipython",
    "version": 3
   },
   "file_extension": ".py",
   "mimetype": "text/x-python",
   "name": "python",
   "nbconvert_exporter": "python",
   "pygments_lexer": "ipython3",
   "version": "3.7.3"
  }
 },
 "nbformat": 4,
 "nbformat_minor": 2
}
