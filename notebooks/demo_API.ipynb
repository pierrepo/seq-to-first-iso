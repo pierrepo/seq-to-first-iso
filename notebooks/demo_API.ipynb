{
 "cells": [
  {
   "cell_type": "markdown",
   "metadata": {},
   "source": [
    "# API of seq-to-first-iso\n",
    "\n",
    "**seq-to-first-iso** computes the first two isotopologue intentities (M0 and M1) from peptide sequences with natural carbon\n",
    "and with 99.99 % 12C enriched carbon.\n",
    "\n",
    "The program can take into account unlabelled amino acids to simulate auxotrophies to amino acids.\n",
    "\n",
    "seq-to-first-iso is available as a Python module."
   ]
  },
  {
   "cell_type": "code",
   "execution_count": 1,
   "metadata": {},
   "outputs": [],
   "source": [
    "from pprint import pprint\n",
    "\n",
    "from pkg_resources import get_distribution  # Comes with setuptools.\n",
    "import pandas as pd\n",
    "from pyteomics import mass\n",
    "\n",
    "import seq_to_first_iso as stfi"
   ]
  },
  {
   "cell_type": "code",
   "execution_count": 2,
   "metadata": {},
   "outputs": [
    {
     "name": "stdout",
     "output_type": "stream",
     "text": [
      "pyteomics version: 4.1.2\n",
      "pandas version: 0.24.2\n",
      "seq-to-first-iso version: 0.5.0\n"
     ]
    }
   ],
   "source": [
    "try:\n",
    "    print(f\"pyteomics version: {get_distribution('pyteomics').version}\")\n",
    "except:\n",
    "    print(\"pyteomics version not found\")\n",
    "\n",
    "print(f\"pandas version: {pd.__version__}\\n\"\n",
    "      f\"seq-to-first-iso version: {stfi.__version__}\"\n",
    "     )"
   ]
  },
  {
   "cell_type": "code",
   "execution_count": 3,
   "metadata": {},
   "outputs": [],
   "source": [
    "# Variables used for showcase.\n",
    "peptide_seq = \"YAQEISRAR\"\n",
    "unlabelled_amino_acids = [\"A\", \"R\"]"
   ]
  },
  {
   "cell_type": "markdown",
   "metadata": {},
   "source": [
    "### Abundances defined in seq-to-first-iso"
   ]
  },
  {
   "cell_type": "code",
   "execution_count": 4,
   "metadata": {},
   "outputs": [],
   "source": [
    "isotopic_abundance = stfi.isotopic_abundance\n",
    "C12_abundance = stfi.C12_abundance"
   ]
  },
  {
   "cell_type": "code",
   "execution_count": 5,
   "metadata": {},
   "outputs": [
    {
     "name": "stdout",
     "output_type": "stream",
     "text": [
      "{'C[12]': 0.9893,\n",
      " 'C[13]': 0.0107,\n",
      " 'H[1]': 0.999885,\n",
      " 'H[2]': 0.000115,\n",
      " 'N[14]': 0.99632,\n",
      " 'N[15]': 0.00368,\n",
      " 'O[16]': 0.99757,\n",
      " 'O[17]': 0.00038,\n",
      " 'O[18]': 0.00205,\n",
      " 'S[32]': 0.9493,\n",
      " 'S[33]': 0.0076,\n",
      " 'S[34]': 0.0429,\n",
      " 'X[12]': 0.9893,\n",
      " 'X[13]': 0.0107}\n"
     ]
    }
   ],
   "source": [
    "pprint(isotopic_abundance)"
   ]
  },
  {
   "cell_type": "code",
   "execution_count": 6,
   "metadata": {},
   "outputs": [
    {
     "name": "stdout",
     "output_type": "stream",
     "text": [
      "{'C[12]': 0.9999,\n",
      " 'C[13]': 9.999999999998899e-05,\n",
      " 'H[1]': 0.999885,\n",
      " 'H[2]': 0.000115,\n",
      " 'N[14]': 0.99632,\n",
      " 'N[15]': 0.00368,\n",
      " 'O[16]': 0.99757,\n",
      " 'O[17]': 0.00038,\n",
      " 'O[18]': 0.00205,\n",
      " 'S[32]': 0.9493,\n",
      " 'S[33]': 0.0076,\n",
      " 'S[34]': 0.0429,\n",
      " 'X[12]': 0.9893,\n",
      " 'X[13]': 0.0107}\n"
     ]
    }
   ],
   "source": [
    "pprint(C12_abundance)"
   ]
  },
  {
   "cell_type": "markdown",
   "metadata": {},
   "source": [
    "isotopic_abundance and C12_abundance are dictionaries with abundances of common isotopes of organic elements.  \n",
    "C12_abundance has a 12C abundance of 99.99 %, hence 13C abundance is 0.01 %.  \n",
    "**Element X** is a **virtual element** created to replace the carbon of unlabelled amino acids, it has the **same isotopic abundances as natural carbon**."
   ]
  },
  {
   "cell_type": "markdown",
   "metadata": {},
   "source": [
    "### Separate sequences according to unlabelled amino acids"
   ]
  },
  {
   "cell_type": "code",
   "execution_count": 7,
   "metadata": {},
   "outputs": [
    {
     "name": "stdout",
     "output_type": "stream",
     "text": [
      "Help on function separate_labelled in module seq_to_first_iso.seq_to_first_iso:\n",
      "\n",
      "separate_labelled(sequence, unlabelled_aa)\n",
      "    Get the sequence of unlabelled amino acids from a sequence.\n",
      "    \n",
      "    Parameters\n",
      "    ----------\n",
      "    sequence : str\n",
      "        String of amino acids.\n",
      "    unlabelled_aa : container object\n",
      "        Container (list, string...) of unlabelled amino acids.\n",
      "    \n",
      "    Returns\n",
      "    -------\n",
      "    tuple(str, str)\n",
      "        | The sequences as a tuple of string with:\n",
      "        |    - the sequence without the unlabelled amino acids\n",
      "        |    - the unlabelled amino acids in the sequence\n",
      "\n"
     ]
    }
   ],
   "source": [
    "help(stfi.separate_labelled)"
   ]
  },
  {
   "cell_type": "code",
   "execution_count": 8,
   "metadata": {},
   "outputs": [
    {
     "name": "stdout",
     "output_type": "stream",
     "text": [
      "sequence with labelled carbon: YQEIS\n",
      "sequence with unlabelled carbon: ARAR\n"
     ]
    }
   ],
   "source": [
    "# Separate sequence \"YAQEISRAR\" with amino acids A and R unlabelled.\n",
    "labelled_sequence, unlabelled_sequence = stfi.separate_labelled(peptide_seq, unlabelled_aa=unlabelled_amino_acids)\n",
    "print(f\"sequence with labelled carbon: {labelled_sequence}\\n\"\n",
    "      f\"sequence with unlabelled carbon: {unlabelled_sequence}\")"
   ]
  },
  {
   "cell_type": "markdown",
   "metadata": {},
   "source": [
    "### Obtain a composition with element X"
   ]
  },
  {
   "cell_type": "code",
   "execution_count": 9,
   "metadata": {},
   "outputs": [
    {
     "name": "stdout",
     "output_type": "stream",
     "text": [
      "Help on function seq_to_xcomp in module seq_to_first_iso.seq_to_first_iso:\n",
      "\n",
      "seq_to_xcomp(sequence_l, sequence_nl)\n",
      "    Take 2 amino acid sequences and return the composition with X.\n",
      "    \n",
      "    The second sequence will have its C replaced by X.\n",
      "    \n",
      "    Parameters\n",
      "    ----------\n",
      "    sequence_l : str or pyteomics.mass.Composition\n",
      "        Sequence or composition with labelled amino acids.\n",
      "    sequence_nl : str or pyteomics.mass.Composition\n",
      "        Sequence or composition where amino acids are not labelled.\n",
      "    \n",
      "    Returns\n",
      "    -------\n",
      "    pyteomics.mass.Composition\n",
      "        Composition with unlabelled carbon as element X.\n",
      "    \n",
      "    Notes\n",
      "    -----\n",
      "    | The function assumes the second sequence has no terminii (H-, -OH).\n",
      "    | Supports pyteomics.mass.Composition as argument (0.5.1).\n",
      "    | If mass.Composition objects are provided, the function assumes\n",
      "      the terminii of the second composition were already removed.\n",
      "\n"
     ]
    }
   ],
   "source": [
    "help(stfi.seq_to_xcomp)"
   ]
  },
  {
   "cell_type": "code",
   "execution_count": 10,
   "metadata": {},
   "outputs": [
    {
     "name": "stdout",
     "output_type": "stream",
     "text": [
      "Composition of YAQEISRAR with ['A', 'R'] unlabelled:\n",
      "Composition({'H': 76, 'C': 28, 'O': 15, 'N': 16, 'X': 18})\n"
     ]
    }
   ],
   "source": [
    "# Get the chemical formula with unlabelled carbon as element X.\n",
    "chem_formula = stfi.seq_to_xcomp(labelled_sequence, unlabelled_sequence)\n",
    "print(f\"Composition of {peptide_seq} with {unlabelled_amino_acids} unlabelled:\\n{chem_formula}\")"
   ]
  },
  {
   "cell_type": "code",
   "execution_count": 11,
   "metadata": {},
   "outputs": [
    {
     "name": "stdout",
     "output_type": "stream",
     "text": [
      "Composition of YAQEISRAR with ['A', 'R'] unlabelled:\n",
      "Composition({'H': 42, 'C': 28, 'O': 11, 'N': 6})\n"
     ]
    }
   ],
   "source": [
    "# If all amino acids are labelled, you can pass an empty string.\n",
    "labelled_formula = stfi.seq_to_xcomp(labelled_sequence, \"\")\n",
    "print(f\"Composition of {peptide_seq} with {unlabelled_amino_acids} unlabelled:\\n{labelled_formula}\")"
   ]
  },
  {
   "cell_type": "code",
   "execution_count": 12,
   "metadata": {},
   "outputs": [
    {
     "name": "stdout",
     "output_type": "stream",
     "text": [
      "Composition of YAQEISRAR with ['A', 'R'] unlabelled:\n",
      "Composition({'H': 76, 'C': 28, 'O': 15, 'N': 16, 'X': 18})\n"
     ]
    }
   ],
   "source": [
    "# You can also provide pyteomics.mass.Composition objects.\n",
    "# To have a coherent result, H- -OH terminii should only be on one of the sequences. \n",
    "labelled_composition = mass.Composition(labelled_sequence)\n",
    "# parsed_sequence does not add the terminii.\n",
    "unlabelled_composition = mass.Composition(parsed_sequence=unlabelled_sequence)\n",
    "\n",
    "chem_formula = stfi.seq_to_xcomp(labelled_sequence, unlabelled_composition)\n",
    "print(f\"Composition of {peptide_seq} with {unlabelled_amino_acids} unlabelled:\\n{chem_formula}\")"
   ]
  },
  {
   "cell_type": "markdown",
   "metadata": {},
   "source": [
    "### Compute isotopologue intensity"
   ]
  },
  {
   "cell_type": "code",
   "execution_count": 13,
   "metadata": {},
   "outputs": [
    {
     "name": "stdout",
     "output_type": "stream",
     "text": [
      "Help on function compute_M0_nl in module seq_to_first_iso.seq_to_first_iso:\n",
      "\n",
      "compute_M0_nl(f, a)\n",
      "    Return the monoisotopic abundance M0 of a formula with mixed labels.\n",
      "    \n",
      "    Parameters\n",
      "    ----------\n",
      "    f : pyteomics.mass.Composition\n",
      "        Chemical formula, as a dict of counts for each element:\n",
      "        {element_name: count_of_element_in_sequence, ...}.\n",
      "    a : dict\n",
      "        Dictionary of abundances of isotopes, in the format:\n",
      "        {element_name[isotope_number]: relative abundance, ..}.\n",
      "    \n",
      "    Returns\n",
      "    -------\n",
      "    float\n",
      "        Value of M0.\n",
      "    \n",
      "    Notes\n",
      "    -----\n",
      "    X represents C with default isotopic abundance.\n",
      "\n",
      "-------------------------------------------------------------------------------\n",
      "Help on function compute_M1_nl in module seq_to_first_iso.seq_to_first_iso:\n",
      "\n",
      "compute_M1_nl(f, a)\n",
      "    Compute abundance of second isotopologue M1 from its formula.\n",
      "    \n",
      "    Parameters\n",
      "    ----------\n",
      "    f : pyteomics.mass.Composition\n",
      "        Chemical formula, as a dict of counts for each element:\n",
      "        {element_name: count_of_element_in_sequence, ...}.\n",
      "    a : dict\n",
      "        Dictionary of abundances of isotopes, in the format:\n",
      "        {element_name[isotope_number]: relative abundance, ..}.\n",
      "    \n",
      "    Returns\n",
      "    -------\n",
      "    float\n",
      "        Value of M1.\n",
      "    \n",
      "    Notes\n",
      "    -----\n",
      "    X represents C with default isotopic abundance.\n",
      "\n"
     ]
    }
   ],
   "source": [
    "help(stfi.compute_M0_nl)\n",
    "print(\"-\" * 79)\n",
    "help(stfi.compute_M1_nl)"
   ]
  },
  {
   "cell_type": "code",
   "execution_count": 14,
   "metadata": {},
   "outputs": [
    {
     "name": "stdout",
     "output_type": "stream",
     "text": [
      "M0 in Normal Condition: 0.5493191520383802\n",
      "M0 in 12C condition: 0.7403283857401063\n"
     ]
    }
   ],
   "source": [
    "# Compute M0 with natural carbon.\n",
    "first_isotopologue = stfi.compute_M0_nl(chem_formula, isotopic_abundance)\n",
    "print(f\"M0 in Normal Condition: {first_isotopologue}\")\n",
    "\n",
    "first_isotopologue = stfi.compute_M0_nl(chem_formula, C12_abundance)\n",
    "print(f\"M0 in 12C condition: {first_isotopologue}\")"
   ]
  },
  {
   "cell_type": "code",
   "execution_count": 15,
   "metadata": {},
   "outputs": [
    {
     "name": "stdout",
     "output_type": "stream",
     "text": [
      "M1 in Normal Condition: 0.313702912736476\n",
      "M1 in 12C condition: 0.200655465179031\n"
     ]
    }
   ],
   "source": [
    "# Compute M1 with natural carbon.\n",
    "first_isotopologue = stfi.compute_M1_nl(chem_formula, isotopic_abundance)\n",
    "print(f\"M1 in Normal Condition: {first_isotopologue}\")\n",
    "\n",
    "first_isotopologue = stfi.compute_M1_nl(chem_formula, C12_abundance)\n",
    "print(f\"M1 in 12C condition: {first_isotopologue}\")"
   ]
  },
  {
   "cell_type": "markdown",
   "metadata": {},
   "source": [
    "### Get the composition of a list of modifications"
   ]
  },
  {
   "cell_type": "code",
   "execution_count": 16,
   "metadata": {},
   "outputs": [
    {
     "name": "stdout",
     "output_type": "stream",
     "text": [
      "Help on function get_mods_composition in module seq_to_first_iso.seq_to_first_iso:\n",
      "\n",
      "get_mods_composition(modifications)\n",
      "    Return the composition of a list of modifications.\n",
      "    \n",
      "    Parameters\n",
      "    ----------\n",
      "    modifications: list of str\n",
      "        List of modifications string (corresponding to Unimod titles).\n",
      "    \n",
      "    Returns\n",
      "    -------\n",
      "    pyteomics.mass.Composition\n",
      "        The total composition change.\n",
      "\n"
     ]
    }
   ],
   "source": [
    "help(stfi.get_mods_composition)"
   ]
  },
  {
   "cell_type": "code",
   "execution_count": 17,
   "metadata": {},
   "outputs": [
    {
     "name": "stderr",
     "output_type": "stream",
     "text": [
      "[2019-07-10, 10:38:33] WARNING : Unimod entry not found for : phospho\n"
     ]
    },
    {
     "name": "stdout",
     "output_type": "stream",
     "text": [
      "Total composition shift for ['Acetyl', 'Phospho', 'phospho'] is Composition({'H': 3, 'C': 2, 'O': 4, 'P': 1})\n"
     ]
    }
   ],
   "source": [
    "# Modifications must be strict Unimod entries title.\n",
    "modification_list = [\"Acetyl\", \"Phospho\", \"phospho\"]  # phospho does not correspond to a title, it will be ignored\n",
    "total_composition = stfi.get_mods_composition(modification_list)\n",
    "print(f\"Total composition shift for {modification_list} is {total_composition}\")"
   ]
  },
  {
   "cell_type": "markdown",
   "metadata": {},
   "source": [
    "### Get human-readable chemical formula"
   ]
  },
  {
   "cell_type": "code",
   "execution_count": 18,
   "metadata": {},
   "outputs": [
    {
     "name": "stdout",
     "output_type": "stream",
     "text": [
      "Help on function formula_to_str in module seq_to_first_iso.seq_to_first_iso:\n",
      "\n",
      "formula_to_str(composition)\n",
      "    Return formula from Composition as a string.\n",
      "    \n",
      "    Parameters\n",
      "    ----------\n",
      "    composition : pyteomics.mass.Composition\n",
      "        Chemical formula.\n",
      "    \n",
      "    Returns\n",
      "    -------\n",
      "    str\n",
      "        Human-readable string of the formula.\n",
      "    \n",
      "    Warnings\n",
      "    --------\n",
      "    If the composition has elements not in USED_ELEMS, they will not\n",
      "    be added to the output.\n",
      "\n"
     ]
    }
   ],
   "source": [
    "help(stfi.formula_to_str)"
   ]
  },
  {
   "cell_type": "code",
   "execution_count": 19,
   "metadata": {},
   "outputs": [
    {
     "name": "stdout",
     "output_type": "stream",
     "text": [
      "Composition({'H': 3, 'C': 2, 'O': 4, 'P': 1}) becomes C2H3O4P1\n"
     ]
    }
   ],
   "source": [
    "# This is the function used to get the formulas in the output.\n",
    "formula_str = stfi.formula_to_str(total_composition)\n",
    "print(f\"{total_composition} becomes {formula_str}\")"
   ]
  },
  {
   "cell_type": "code",
   "execution_count": 20,
   "metadata": {},
   "outputs": [
    {
     "name": "stdout",
     "output_type": "stream",
     "text": [
      "Composition({'H': 7, 'C': 3, 'O': 2, 'N': 1, 'Se': 1}) becomes C3H7O2N1\n"
     ]
    }
   ],
   "source": [
    "# !!! Warning: if the Composition has elements not in \"CHONPSX\", they will not be in the final string.\n",
    "bad_composition = mass.Composition(\"U\")\n",
    "formula_str = stfi.formula_to_str(bad_composition)\n",
    "print(f\"{bad_composition} becomes {formula_str}\")"
   ]
  },
  {
   "cell_type": "markdown",
   "metadata": {},
   "source": [
    "Here, \"non-CHONPSX\" element **Se (Selenium) is ignored**."
   ]
  },
  {
   "cell_type": "markdown",
   "metadata": {},
   "source": [
    "### Parse a file with peptide sequences"
   ]
  },
  {
   "cell_type": "markdown",
   "metadata": {},
   "source": [
    "seq-to-first-iso accepts files with 1 sequence per line.  \n",
    "Optionally, annotations/sequence IDs can be placed in the same line before sequences if separated by a separator (default: \"\\t\"). The program declares that the file has annotations if the separator is found on the first line.   \n",
    "The parser will ignore lines where sequences have incorrect characters (not in \"ACDEFGHIKLMNPQRSTVWY\") unless it corresponds to XTandem's Post-Translational Modification notation."
   ]
  },
  {
   "cell_type": "code",
   "execution_count": 21,
   "metadata": {},
   "outputs": [
    {
     "name": "stdout",
     "output_type": "stream",
     "text": [
      "Help on function sequence_parser in module seq_to_first_iso.seq_to_first_iso:\n",
      "\n",
      "sequence_parser(file, sep='\\t')\n",
      "    Return information on sequences parsed from a file.\n",
      "    \n",
      "    Parameters\n",
      "    ----------\n",
      "    file : str\n",
      "        Filename, the file can either just have sequences for each line or\n",
      "        can have have annotations and sequences with a separator in-between.\n",
      "    sep : str, optional\n",
      "        Separator for files with annotations (default is ``\\t``).\n",
      "    \n",
      "    Returns\n",
      "    -------\n",
      "    dict\n",
      "        | Parsed output with \"key: values\" :\n",
      "        |     - \"annotations\": a list of annotations if any.\n",
      "        |     - \"raw_sequences\": a list of unmodified peptide sequences.\n",
      "        |     - \"sequences\": a list of uppercase peptide sequences.\n",
      "        |     - \"modifications\": a list of lists of PTMs.\n",
      "        |     - \"ignored_lines\": the number of ignored lines.\n",
      "    \n",
      "    Warnings\n",
      "    --------\n",
      "    The function uses the first line to evaluate if the file has\n",
      "    annotations or not, hence a file should have a consistent format.\n",
      "    \n",
      "    Notes\n",
      "    -----\n",
      "    | Supports Xtandem's Post-Translational Modification notation (0.4.0).\n",
      "    | Supports annotations (0.3.0).\n",
      "\n"
     ]
    }
   ],
   "source": [
    "help(stfi.sequence_parser)"
   ]
  },
  {
   "cell_type": "code",
   "execution_count": 22,
   "metadata": {},
   "outputs": [
    {
     "name": "stdout",
     "output_type": "stream",
     "text": [
      "{'annotations': [],\n",
      " 'ignored_lines': 0,\n",
      " 'modifications': [[], [], []],\n",
      " 'raw_sequences': ['YAQEISR', 'VGFPVLSVKEHK', 'LAMVIIKEFVDDLK'],\n",
      " 'sequences': ['YAQEISR', 'VGFPVLSVKEHK', 'LAMVIIKEFVDDLK']}\n"
     ]
    }
   ],
   "source": [
    "parsed_output = stfi.sequence_parser(\"peptides.txt\")\n",
    "pprint(parsed_output)"
   ]
  },
  {
   "cell_type": "markdown",
   "metadata": {},
   "source": [
    "For *peptides.txt*, the list of annotations is empty (there are no annotations), no lines are ignored and \n",
    "no modifications were found so raw_sequences (with modifications) are the same as sequences (without modifications)"
   ]
  },
  {
   "cell_type": "code",
   "execution_count": 23,
   "metadata": {},
   "outputs": [],
   "source": [
    "# Get the values in the returned dict.\n",
    "annotations = parsed_output[\"annotations\"]\n",
    "ignored_lines = parsed_output[\"ignored_lines\"]\n",
    "modifications = parsed_output[\"modifications\"]\n",
    "sequences = parsed_output[\"sequences\"]\n",
    "raw_sequences = parsed_output[\"raw_sequences\"]"
   ]
  },
  {
   "cell_type": "code",
   "execution_count": 24,
   "metadata": {},
   "outputs": [
    {
     "name": "stdout",
     "output_type": "stream",
     "text": [
      "{'annotations': ['0', '1', '2', '4', '7', '11', '13', '14', '16', '24', '27'],\n",
      " 'ignored_lines': 1,\n",
      " 'modifications': [['Oxidation'],\n",
      "                   ['Phospho'],\n",
      "                   [],\n",
      "                   ['Glutathione'],\n",
      "                   ['Acetyl', 'Oxidation'],\n",
      "                   ['Heme'],\n",
      "                   ['Pro->Val'],\n",
      "                   [],\n",
      "                   ['Glutathione'],\n",
      "                   [],\n",
      "                   ['Acetyl', 'Oxidation', 'Acetyl', 'Acetyl']],\n",
      " 'raw_sequences': ['VPK(Oxidation)ER',\n",
      "                   'VLLIDLRIPQR(Phospho)SAINHIVAPNLVNVDPNLLWDK',\n",
      "                   'QRTTFFVLGINTVNYPDIYEHILER',\n",
      "                   'AELFL(Glutathione)LNR',\n",
      "                   '.(Acetyl)VGEVFINYIQRQNELFQGKLAYLII(Oxidation)DTCLSIVRPNDSKPLDNR',\n",
      "                   'YKTMNTFDPD(Heme)EKFEWFQVWQAVK',\n",
      "                   'HKSASSPAV(Pro->Val)NADTDIQDSSTPSTSPSGRR',\n",
      "                   'FHNK',\n",
      "                   '.(Glutathione)MDLEIK',\n",
      "                   'LANEKPEDVFER',\n",
      "                   '.(Acetyl)SDTPLR(Oxidation)D(Acetyl)EDG(Acetyl)LDFWETLRSLATTNPNPPVEK'],\n",
      " 'sequences': ['VPKER',\n",
      "               'VLLIDLRIPQRSAINHIVAPNLVNVDPNLLWDK',\n",
      "               'QRTTFFVLGINTVNYPDIYEHILER',\n",
      "               'AELFLLNR',\n",
      "               'VGEVFINYIQRQNELFQGKLAYLIIDTCLSIVRPNDSKPLDNR',\n",
      "               'YKTMNTFDPDEKFEWFQVWQAVK',\n",
      "               'HKSASSPAVNADTDIQDSSTPSTSPSGRR',\n",
      "               'FHNK',\n",
      "               'MDLEIK',\n",
      "               'LANEKPEDVFER',\n",
      "               'SDTPLRDEDGLDFWETLRSLATTNPNPPVEK']}\n"
     ]
    }
   ],
   "source": [
    "# Parsing a file with annotations and modifications following XTandem notation.\n",
    "parsed_output = stfi.sequence_parser(\"peptides_mod.tsv\")\n",
    "pprint(parsed_output)"
   ]
  },
  {
   "cell_type": "markdown",
   "metadata": {},
   "source": [
    "### Create a dataframe from a list of sequences"
   ]
  },
  {
   "cell_type": "code",
   "execution_count": 25,
   "metadata": {},
   "outputs": [
    {
     "name": "stdout",
     "output_type": "stream",
     "text": [
      "Help on function seq_to_df in module seq_to_first_iso.seq_to_first_iso:\n",
      "\n",
      "seq_to_df(sequences, unlabelled_aa, **kwargs)\n",
      "    Create a dataframe from sequences and return its name.\n",
      "    \n",
      "    Parameters\n",
      "    ----------\n",
      "    sequences : list of str\n",
      "        List of pure peptide sequences string.\n",
      "    unlabelled_aa : container object\n",
      "        Container of unlabelled amino acids.\n",
      "    annotations : list of str, optional\n",
      "        List of IDs for the sequences.\n",
      "    raw_sequences : list of str, optional\n",
      "        List of sequences with Xtandem PTMs.\n",
      "    modifications : list of str, optional\n",
      "        List of modifications for raw_sequences.\n",
      "    \n",
      "    Returns\n",
      "    -------\n",
      "    pandas.Dataframe\n",
      "        | Dataframe with :\n",
      "        |                  annotation (optional), sequence, mass,\n",
      "                           formula, formula_X, M0_NC, M1_NC, M0_12C, M1_12C.\n",
      "    \n",
      "    Warnings\n",
      "    --------\n",
      "    If raw_sequence is provided, modifications must also be provided\n",
      "    and vice-versa.\n",
      "\n"
     ]
    }
   ],
   "source": [
    "help(stfi.seq_to_df)"
   ]
  },
  {
   "cell_type": "code",
   "execution_count": 26,
   "metadata": {
    "scrolled": true
   },
   "outputs": [
    {
     "name": "stderr",
     "output_type": "stream",
     "text": [
      "[2019-07-10, 10:38:33] INFO    : Computing formula\n",
      "[2019-07-10, 10:38:33] INFO    : Computing mass\n",
      "[2019-07-10, 10:38:33] INFO    : Computing M0 and M1\n"
     ]
    },
    {
     "data": {
      "text/html": [
       "<div>\n",
       "<style scoped>\n",
       "    .dataframe tbody tr th:only-of-type {\n",
       "        vertical-align: middle;\n",
       "    }\n",
       "\n",
       "    .dataframe tbody tr th {\n",
       "        vertical-align: top;\n",
       "    }\n",
       "\n",
       "    .dataframe thead th {\n",
       "        text-align: right;\n",
       "    }\n",
       "</style>\n",
       "<table border=\"1\" class=\"dataframe\">\n",
       "  <thead>\n",
       "    <tr style=\"text-align: right;\">\n",
       "      <th></th>\n",
       "      <th>sequence</th>\n",
       "      <th>mass</th>\n",
       "      <th>formula</th>\n",
       "      <th>formula_X</th>\n",
       "      <th>M0_NC</th>\n",
       "      <th>M1_NC</th>\n",
       "      <th>M0_12C</th>\n",
       "      <th>M1_12C</th>\n",
       "    </tr>\n",
       "  </thead>\n",
       "  <tbody>\n",
       "    <tr>\n",
       "      <th>0</th>\n",
       "      <td>YAQEISR</td>\n",
       "      <td>865.429381</td>\n",
       "      <td>C37H59O13N11</td>\n",
       "      <td>C37H59O13N11</td>\n",
       "      <td>0.620641</td>\n",
       "      <td>0.280871</td>\n",
       "      <td>0.920656</td>\n",
       "      <td>0.051619</td>\n",
       "    </tr>\n",
       "    <tr>\n",
       "      <th>1</th>\n",
       "      <td>VGFPVLSVKEHK</td>\n",
       "      <td>1338.765971</td>\n",
       "      <td>C63H102O16N16</td>\n",
       "      <td>C63H102O16N16</td>\n",
       "      <td>0.455036</td>\n",
       "      <td>0.345060</td>\n",
       "      <td>0.890522</td>\n",
       "      <td>0.074113</td>\n",
       "    </tr>\n",
       "    <tr>\n",
       "      <th>2</th>\n",
       "      <td>LAMVIIKEFVDDLK</td>\n",
       "      <td>1632.916066</td>\n",
       "      <td>C76H128O21N16S1</td>\n",
       "      <td>C76H128O21N16S1</td>\n",
       "      <td>0.369940</td>\n",
       "      <td>0.337319</td>\n",
       "      <td>0.831576</td>\n",
       "      <td>0.081017</td>\n",
       "    </tr>\n",
       "  </tbody>\n",
       "</table>\n",
       "</div>"
      ],
      "text/plain": [
       "         sequence         mass          formula        formula_X     M0_NC  \\\n",
       "0         YAQEISR   865.429381     C37H59O13N11     C37H59O13N11  0.620641   \n",
       "1    VGFPVLSVKEHK  1338.765971    C63H102O16N16    C63H102O16N16  0.455036   \n",
       "2  LAMVIIKEFVDDLK  1632.916066  C76H128O21N16S1  C76H128O21N16S1  0.369940   \n",
       "\n",
       "      M1_NC    M0_12C    M1_12C  \n",
       "0  0.280871  0.920656  0.051619  \n",
       "1  0.345060  0.890522  0.074113  \n",
       "2  0.337319  0.831576  0.081017  "
      ]
     },
     "execution_count": 26,
     "metadata": {},
     "output_type": "execute_result"
    }
   ],
   "source": [
    "# Dataframe from a list of sequences, give an empty list to unlabelled_aa have all amino acids labelled. \n",
    "df_peptides = stfi.seq_to_df(sequences, unlabelled_aa=[])\n",
    "df_peptides.head()"
   ]
  },
  {
   "cell_type": "code",
   "execution_count": 27,
   "metadata": {},
   "outputs": [
    {
     "name": "stderr",
     "output_type": "stream",
     "text": [
      "[2019-07-10, 10:38:34] INFO    : Computing formula\n",
      "[2019-07-10, 10:38:34] INFO    : Computing composition of modifications\n",
      "[2019-07-10, 10:38:34] WARNING : Fe in (Heme) is not supported in the computation of M0 and M1\n",
      "[2019-07-10, 10:38:34] INFO    : Computing mass\n",
      "[2019-07-10, 10:38:34] INFO    : Computing M0 and M1\n"
     ]
    },
    {
     "data": {
      "text/html": [
       "<div>\n",
       "<style scoped>\n",
       "    .dataframe tbody tr th:only-of-type {\n",
       "        vertical-align: middle;\n",
       "    }\n",
       "\n",
       "    .dataframe tbody tr th {\n",
       "        vertical-align: top;\n",
       "    }\n",
       "\n",
       "    .dataframe thead th {\n",
       "        text-align: right;\n",
       "    }\n",
       "</style>\n",
       "<table border=\"1\" class=\"dataframe\">\n",
       "  <thead>\n",
       "    <tr style=\"text-align: right;\">\n",
       "      <th></th>\n",
       "      <th>annotation</th>\n",
       "      <th>sequence</th>\n",
       "      <th>mass</th>\n",
       "      <th>formula</th>\n",
       "      <th>formula_X</th>\n",
       "      <th>M0_NC</th>\n",
       "      <th>M1_NC</th>\n",
       "      <th>M0_12C</th>\n",
       "      <th>M1_12C</th>\n",
       "    </tr>\n",
       "  </thead>\n",
       "  <tbody>\n",
       "    <tr>\n",
       "      <th>0</th>\n",
       "      <td>0</td>\n",
       "      <td>VPK(Oxidation)ER</td>\n",
       "      <td>643.365324</td>\n",
       "      <td>C27H49O9N9</td>\n",
       "      <td>C21H49O9N9X6</td>\n",
       "      <td>0.703864</td>\n",
       "      <td>0.235324</td>\n",
       "      <td>0.880417</td>\n",
       "      <td>0.096230</td>\n",
       "    </tr>\n",
       "    <tr>\n",
       "      <th>1</th>\n",
       "      <td>1</td>\n",
       "      <td>VLLIDLRIPQR(Phospho)SAINHIVAPNLVNVDPNLLWDK</td>\n",
       "      <td>3838.102264</td>\n",
       "      <td>C172H285O49N48P1</td>\n",
       "      <td>C154H285O49N48P1X18</td>\n",
       "      <td>0.113124</td>\n",
       "      <td>0.236320</td>\n",
       "      <td>0.583917</td>\n",
       "      <td>0.256235</td>\n",
       "    </tr>\n",
       "    <tr>\n",
       "      <th>2</th>\n",
       "      <td>2</td>\n",
       "      <td>QRTTFFVLGINTVNYPDIYEHILER</td>\n",
       "      <td>3037.566156</td>\n",
       "      <td>C140H212O40N36</td>\n",
       "      <td>C128H212O40N36X12</td>\n",
       "      <td>0.171960</td>\n",
       "      <td>0.290060</td>\n",
       "      <td>0.672794</td>\n",
       "      <td>0.212051</td>\n",
       "    </tr>\n",
       "    <tr>\n",
       "      <th>3</th>\n",
       "      <td>4</td>\n",
       "      <td>AELFL(Glutathione)LNR</td>\n",
       "      <td>1279.623072</td>\n",
       "      <td>C55H89O18N15S1</td>\n",
       "      <td>C46H89O18N15S1X9</td>\n",
       "      <td>0.470936</td>\n",
       "      <td>0.318055</td>\n",
       "      <td>0.768911</td>\n",
       "      <td>0.140284</td>\n",
       "    </tr>\n",
       "    <tr>\n",
       "      <th>4</th>\n",
       "      <td>7</td>\n",
       "      <td>.(Acetyl)VGEVFINYIQRQNELFQGKLAYLII(Oxidation)D...</td>\n",
       "      <td>5049.638616</td>\n",
       "      <td>C226H361O68N61S1</td>\n",
       "      <td>C205H361O68N61S1X21</td>\n",
       "      <td>0.054198</td>\n",
       "      <td>0.148778</td>\n",
       "      <td>0.481767</td>\n",
       "      <td>0.264187</td>\n",
       "    </tr>\n",
       "  </tbody>\n",
       "</table>\n",
       "</div>"
      ],
      "text/plain": [
       "  annotation                                           sequence         mass  \\\n",
       "0          0                                   VPK(Oxidation)ER   643.365324   \n",
       "1          1         VLLIDLRIPQR(Phospho)SAINHIVAPNLVNVDPNLLWDK  3838.102264   \n",
       "2          2                          QRTTFFVLGINTVNYPDIYEHILER  3037.566156   \n",
       "3          4                              AELFL(Glutathione)LNR  1279.623072   \n",
       "4          7  .(Acetyl)VGEVFINYIQRQNELFQGKLAYLII(Oxidation)D...  5049.638616   \n",
       "\n",
       "            formula            formula_X     M0_NC     M1_NC    M0_12C  \\\n",
       "0        C27H49O9N9         C21H49O9N9X6  0.703864  0.235324  0.880417   \n",
       "1  C172H285O49N48P1  C154H285O49N48P1X18  0.113124  0.236320  0.583917   \n",
       "2    C140H212O40N36    C128H212O40N36X12  0.171960  0.290060  0.672794   \n",
       "3    C55H89O18N15S1     C46H89O18N15S1X9  0.470936  0.318055  0.768911   \n",
       "4  C226H361O68N61S1  C205H361O68N61S1X21  0.054198  0.148778  0.481767   \n",
       "\n",
       "     M1_12C  \n",
       "0  0.096230  \n",
       "1  0.256235  \n",
       "2  0.212051  \n",
       "3  0.140284  \n",
       "4  0.264187  "
      ]
     },
     "execution_count": 27,
     "metadata": {},
     "output_type": "execute_result"
    }
   ],
   "source": [
    "# The dict returned by sequence_parser can be unpacked in the function (remove \"ignored_lines\" against warning).\n",
    "parsed_output.pop(\"ignored_lines\")\n",
    "df_peptides = stfi.seq_to_df(unlabelled_aa=unlabelled_amino_acids, **parsed_output)\n",
    "# Dataframe with annotations.\n",
    "df_peptides.head()"
   ]
  },
  {
   "cell_type": "markdown",
   "metadata": {},
   "source": [
    "If modifications have \"non-CHONPSX\" elements, computation of isotopologue intensities will be less accurate."
   ]
  }
 ],
 "metadata": {
  "kernelspec": {
   "display_name": "Python 3",
   "language": "python",
   "name": "python3"
  },
  "language_info": {
   "codemirror_mode": {
    "name": "ipython",
    "version": 3
   },
   "file_extension": ".py",
   "mimetype": "text/x-python",
   "name": "python",
   "nbconvert_exporter": "python",
   "pygments_lexer": "ipython3",
   "version": "3.7.3"
  }
 },
 "nbformat": 4,
 "nbformat_minor": 2
}
